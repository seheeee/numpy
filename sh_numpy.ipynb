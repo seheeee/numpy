{
 "cells": [
  {
   "cell_type": "code",
   "execution_count": 3,
   "id": "92db7cd5",
   "metadata": {},
   "outputs": [],
   "source": [
    "import os\n",
    "import pandas as pd\n",
    "import numpy as np\n",
    "import re\n",
    "import time\n",
    "from datetime import datetime, date\n",
    "from tabulate import tabulate #DF예쁘게 출력하기\n",
    "import calendar\n",
    "import seaborn as sns"
   ]
  },
  {
   "cell_type": "markdown",
   "id": "06b00267",
   "metadata": {},
   "source": [
    "# 개념\n",
    "- NumPy는 “Numerical Python“의 약자. \n",
    "- 대규모 다차원 배열과 행렬 연산에 필요한 다양한 함수를 제공. 파이썬에서 선형대수 기반의 프로그램을 쉽게 만들 수 있도록 지원하는 대표적인 패키지\n",
    "<br>\n",
    "\n",
    "- 많은 머신러닝 알고리즘이 넘파이 기반으로 작성돼 있으며, 알고리즘의 입출력 데이터를 넘파이 배열 타입으로 사용함\n",
    "- 넘파이의 기본 데이터 타입은 ndarray. ndarray를 이용해 넘파이에서 다차원 배열을 쉽게 생성하고 다양한 연산 수행\n",
    "<br>\n",
    "\n",
    "- 강력한 N 차원 배열 객체\n",
    "- 정교한 broadcasting 기능\n",
    "- 빠른 처리속도"
   ]
  },
  {
   "cell_type": "markdown",
   "id": "ec1e5257",
   "metadata": {},
   "source": [
    "## 배열 기본정보"
   ]
  },
  {
   "cell_type": "code",
   "execution_count": 2,
   "id": "fdd43486",
   "metadata": {},
   "outputs": [],
   "source": [
    "data = np.random.randint(1,10,size=(2,5,3))"
   ]
  },
  {
   "cell_type": "code",
   "execution_count": 3,
   "id": "d45fa5d0",
   "metadata": {},
   "outputs": [
    {
     "name": "stdout",
     "output_type": "stream",
     "text": [
      "(2, 5, 3)\n",
      "int32\n",
      "3\n"
     ]
    }
   ],
   "source": [
    "print(data.shape) #크기\n",
    "print(data.dtype)\n",
    "print(data.ndim) #차원"
   ]
  },
  {
   "cell_type": "markdown",
   "id": "b9c98ffd",
   "metadata": {},
   "source": [
    "# 연산"
   ]
  },
  {
   "cell_type": "markdown",
   "id": "ca3ed336",
   "metadata": {},
   "source": [
    "## 기본 사칙연산"
   ]
  },
  {
   "cell_type": "code",
   "execution_count": 4,
   "id": "a94abc79",
   "metadata": {},
   "outputs": [
    {
     "name": "stdout",
     "output_type": "stream",
     "text": [
      "[[ 0.13825847 -0.70146544 -0.12224531]\n",
      " [ 2.58928132 -0.95757225 -0.37246198]] \n",
      "\n",
      "[[ 1.38258469 -7.01465436 -1.2224531 ]\n",
      " [25.8928132  -9.5757225  -3.72461978]] \n",
      "\n",
      "[[ 0.27651694 -1.40293087 -0.24449062]\n",
      " [ 5.17856264 -1.9151445  -0.74492396]]\n"
     ]
    }
   ],
   "source": [
    "#np.random.randn(m,n) : 정규분포를 이루는 값을 (m,n)배열로 추출\n",
    "data = np.random.randn(2,3)\n",
    "print(data, '\\n')\n",
    "print(data*10, '\\n')\n",
    "print(data + data)"
   ]
  },
  {
   "cell_type": "markdown",
   "id": "e2caf879",
   "metadata": {},
   "source": [
    "- 행렬곱 : np.dot() / matmul() <br>\n",
    ": 행렬곱에서는 (mxn)*(nxp)처럼 맞닿는 부분의 행,열이 동일해야한다."
   ]
  },
  {
   "cell_type": "code",
   "execution_count": 39,
   "id": "5cae9cae",
   "metadata": {},
   "outputs": [
    {
     "name": "stdout",
     "output_type": "stream",
     "text": [
      "[[  5  14  23]\n",
      " [ 14  50  86]\n",
      " [ 23  86 149]] \n",
      "\n",
      "[[  5  14  23]\n",
      " [ 14  50  86]\n",
      " [ 23  86 149]]\n"
     ]
    }
   ],
   "source": [
    "ar1 = np.arange(9).reshape(3,3)\n",
    "print(np.dot(ar1,ar1.T), '\\n')\n",
    "print(np.matmul(ar1, ar1.T))"
   ]
  },
  {
   "cell_type": "markdown",
   "id": "4ea7c987",
   "metadata": {},
   "source": [
    "## numpy제공 연산"
   ]
  },
  {
   "cell_type": "markdown",
   "id": "8c41b4a0",
   "metadata": {},
   "source": [
    "-  누적덧셈 : ar.cumsum(axis=0)"
   ]
  },
  {
   "cell_type": "code",
   "execution_count": 99,
   "id": "08c86022",
   "metadata": {},
   "outputs": [
    {
     "name": "stdout",
     "output_type": "stream",
     "text": [
      "[[1 2 3]\n",
      " [4 5 6]\n",
      " [7 8 9]] \n",
      "\n",
      "[ 1  3  6 10 15 21 28 36 45] \n",
      "\n",
      "[[ 1  2  3]\n",
      " [ 5  7  9]\n",
      " [12 15 18]] \n",
      "\n",
      "[[ 1  3  6]\n",
      " [ 4  9 15]\n",
      " [ 7 15 24]]\n"
     ]
    }
   ],
   "source": [
    "arr = np.arange(1,10).reshape(3,3)\n",
    "print(arr, '\\n')\n",
    "print(arr.cumsum(), '\\n') #누적 덧셈\n",
    "print(arr.cumsum(axis=0),'\\n') #행 방향으로 더하기\n",
    "print(arr.cumsum(axis=1)) #열 방향으로 더하기"
   ]
  },
  {
   "cell_type": "markdown",
   "id": "21a0327f",
   "metadata": {},
   "source": [
    "- 곱셈 : ar.prod(axis=0) / 누적곱셈 : ar.cumprod(axis=0)"
   ]
  },
  {
   "cell_type": "code",
   "execution_count": 105,
   "id": "bf98a373",
   "metadata": {},
   "outputs": [
    {
     "name": "stdout",
     "output_type": "stream",
     "text": [
      "[[1 2 3]\n",
      " [4 5 6]\n",
      " [7 8 9]] \n",
      "\n",
      "362880 \n",
      "\n",
      "[  6 120 504] \n",
      "\n",
      "[     1      2      6     24    120    720   5040  40320 362880] \n",
      "\n",
      "[[  1   2   3]\n",
      " [  4  10  18]\n",
      " [ 28  80 162]] \n",
      "\n"
     ]
    }
   ],
   "source": [
    "print(arr, '\\n')\n",
    "print(arr.prod(), '\\n') #전체\n",
    "print(arr.prod(axis=1), '\\n')  #열방향\n",
    "\n",
    "print(arr.cumprod(), '\\n') #전체 누적곱\n",
    "print(arr.cumprod(axis=0), '\\n') #전체 누적곱"
   ]
  },
  {
   "cell_type": "markdown",
   "id": "30cb03df",
   "metadata": {},
   "source": [
    "- 나머지 : np.mod(ar1, ar2) / np.remainder(a1,ar2)"
   ]
  },
  {
   "cell_type": "code",
   "execution_count": 108,
   "id": "d86cf9d9",
   "metadata": {},
   "outputs": [
    {
     "name": "stdout",
     "output_type": "stream",
     "text": [
      "[1 2 0]\n",
      "[1 2 0]\n"
     ]
    }
   ],
   "source": [
    "v1 = np.array([15,30,45])\n",
    "v2 = np.array([2,7,9])\n",
    "\n",
    "print(np.mod(v1,v2))\n",
    "print(np.remainder(v1,v2))"
   ]
  },
  {
   "cell_type": "markdown",
   "id": "4a8b0b57",
   "metadata": {},
   "source": [
    "- 역수 구하기 : np.reciprocal(a)"
   ]
  },
  {
   "cell_type": "code",
   "execution_count": 110,
   "id": "61f0eef1",
   "metadata": {
    "scrolled": true
   },
   "outputs": [
    {
     "name": "stdout",
     "output_type": "stream",
     "text": [
      "[1.17647059 0.54054054 1.         0.01      ]\n"
     ]
    }
   ],
   "source": [
    "value = np.array([0.85, 1.85, 1, 100])\n",
    "print(np.reciprocal(value))"
   ]
  },
  {
   "cell_type": "markdown",
   "id": "26c29a54",
   "metadata": {},
   "source": [
    "- 승수 : np.power(ar1, n)"
   ]
  },
  {
   "cell_type": "code",
   "execution_count": 112,
   "id": "eda1b19b",
   "metadata": {},
   "outputs": [
    {
     "data": {
      "text/plain": [
       "array([  8, 343, 729], dtype=int32)"
      ]
     },
     "execution_count": 112,
     "metadata": {},
     "output_type": "execute_result"
    }
   ],
   "source": [
    "np.power(v2,3)"
   ]
  },
  {
   "cell_type": "markdown",
   "id": "b6f55f65",
   "metadata": {},
   "source": [
    "- meshgrid함수 <br>\n",
    ": 두개의 1차원 배열을 받아서 가능한 모든(x,y)짝으로 구성된 2차원 배열 반환"
   ]
  },
  {
   "cell_type": "code",
   "execution_count": 130,
   "id": "038f71c8",
   "metadata": {},
   "outputs": [
    {
     "name": "stdout",
     "output_type": "stream",
     "text": [
      "[[1 2 3]\n",
      " [1 2 3]\n",
      " [1 2 3]]\n",
      "[[1 1 1]\n",
      " [2 2 2]\n",
      " [3 3 3]]\n"
     ]
    }
   ],
   "source": [
    "x = np.arange(1,4)\n",
    "y = np.arange(1,4)\n",
    "xs, ys = np.meshgrid(x,y) # ?\n",
    "print(xs)\n",
    "print(ys)"
   ]
  },
  {
   "cell_type": "markdown",
   "id": "48019672",
   "metadata": {},
   "source": [
    "# 정렬"
   ]
  },
  {
   "cell_type": "markdown",
   "id": "c41d7a3b",
   "metadata": {},
   "source": [
    "## sort"
   ]
  },
  {
   "cell_type": "markdown",
   "id": "7c8d4d31",
   "metadata": {},
   "source": [
    "- np.sort(arr) : 복사본을 반환"
   ]
  },
  {
   "cell_type": "code",
   "execution_count": 129,
   "id": "5f5d5ccc",
   "metadata": {},
   "outputs": [
    {
     "name": "stdout",
     "output_type": "stream",
     "text": [
      "[57 61 78 31 25  3  4 95 99 14] \n",
      "\n",
      "[ 3  4 14 25 31 57 61 78 95 99] \n",
      "\n",
      "[57 61 78 31 25  3  4 95 99 14] \n",
      "\n"
     ]
    }
   ],
   "source": [
    "arr = np.random.randint(1,100, size=10)\n",
    "print(arr, '\\n')\n",
    "print(np.sort(arr),'\\n') #따로 저장해줘야 함\n",
    "print(arr, '\\n') #기존것은 변경X"
   ]
  },
  {
   "cell_type": "code",
   "execution_count": 131,
   "id": "22da234d",
   "metadata": {},
   "outputs": [
    {
     "name": "stdout",
     "output_type": "stream",
     "text": [
      "[[ 7  1]\n",
      " [ 8 12]] \n",
      "\n",
      "[[ 8 12]\n",
      " [ 1  7]]\n"
     ]
    }
   ],
   "source": [
    "#행렬의 sort\n",
    "arr2d = np.array([[8,12],\n",
    "                  [7,1]])\n",
    "\n",
    "sort_arr2d_s0 = np.sort(arr2d, axis=0)\n",
    "print(sort_arr2d_s0,'\\n')\n",
    "\n",
    "sort_arr2d_s1 = np.sort(arr2d, axis=1)\n",
    "print(sort_arr2d_s1)"
   ]
  },
  {
   "cell_type": "markdown",
   "id": "1ef7a79c",
   "metadata": {},
   "source": [
    "- arr.sort() : 원본에 반영"
   ]
  },
  {
   "cell_type": "code",
   "execution_count": 133,
   "id": "be0f987c",
   "metadata": {},
   "outputs": [
    {
     "name": "stdout",
     "output_type": "stream",
     "text": [
      "[ 1.54371643 -0.40211489  0.8647491  -0.22686923  0.81116027  0.28779461] \n",
      "\n",
      "[-0.40211489 -0.22686923  0.28779461  0.81116027  0.8647491   1.54371643] \n",
      "\n"
     ]
    }
   ],
   "source": [
    "arr = np.random.randn(6)\n",
    "print(arr, '\\n')\n",
    "arr.sort()\n",
    "print(arr, '\\n')"
   ]
  },
  {
   "cell_type": "code",
   "execution_count": 134,
   "id": "dacf8282",
   "metadata": {},
   "outputs": [
    {
     "name": "stdout",
     "output_type": "stream",
     "text": [
      "[[-0.53846816  1.9084621  -0.475776  ]\n",
      " [ 1.44073112 -1.14907568  0.80571455]\n",
      " [ 1.75610703  0.97297991 -1.55111911]\n",
      " [ 0.19114348  1.60477607 -1.42002593]\n",
      " [-2.44378268 -2.05633855 -0.99225755]] \n",
      "\n",
      "[[-0.53846816 -0.475776    1.9084621 ]\n",
      " [-1.14907568  0.80571455  1.44073112]\n",
      " [-1.55111911  0.97297991  1.75610703]\n",
      " [-1.42002593  0.19114348  1.60477607]\n",
      " [-2.44378268 -2.05633855 -0.99225755]] \n",
      "\n",
      "[[-2.44378268 -2.05633855 -0.99225755]\n",
      " [-1.55111911 -0.475776    1.44073112]\n",
      " [-1.42002593  0.19114348  1.60477607]\n",
      " [-1.14907568  0.80571455  1.75610703]\n",
      " [-0.53846816  0.97297991  1.9084621 ]] \n",
      "\n"
     ]
    }
   ],
   "source": [
    "#n차원 정렬\n",
    "arr = np.random.randn(5,3)\n",
    "print(arr, '\\n')\n",
    "arr.sort(axis=1) #열방향 #default\n",
    "print(arr, '\\n') \n",
    "arr.sort(axis=0) #행방향\n",
    "print(arr, '\\n') "
   ]
  },
  {
   "cell_type": "code",
   "execution_count": 135,
   "id": "e0e49308",
   "metadata": {},
   "outputs": [
    {
     "name": "stdout",
     "output_type": "stream",
     "text": [
      "[3 1 9 5] \n",
      "\n",
      "[1 0 3 2]\n"
     ]
    }
   ],
   "source": [
    "#정렬된 행렬의 인덱스를 반환 : 기존 원본 행렬의 원소에 대한 인덱스를 필요로 할 때\n",
    "org_array = np.array([3,1,9,5])\n",
    "sort_indices = np.argsort(org_array)\n",
    "print(org_array, '\\n')\n",
    "print(sort_indices)"
   ]
  },
  {
   "cell_type": "code",
   "execution_count": 25,
   "id": "423e818e",
   "metadata": {},
   "outputs": [
    {
     "data": {
      "text/plain": [
       "array([[3, 2, 1],\n",
       "       [6, 5, 4],\n",
       "       [9, 8, 7]])"
      ]
     },
     "execution_count": 25,
     "metadata": {},
     "output_type": "execute_result"
    }
   ],
   "source": [
    "ar = np.arange(1,10).reshape(3,3)\n",
    "np.sort(ar)[:,::-1] #인덱싱~~~~"
   ]
  },
  {
   "cell_type": "markdown",
   "id": "8c458ea0",
   "metadata": {},
   "source": [
    "## np.where(조건, T, F)\n",
    "- 삼항식의 벡터화 버전"
   ]
  },
  {
   "cell_type": "code",
   "execution_count": 122,
   "id": "cebc892e",
   "metadata": {},
   "outputs": [
    {
     "name": "stdout",
     "output_type": "stream",
     "text": [
      "[[1 2 6 4]\n",
      " [1 6 1 2]\n",
      " [3 5 3 1]\n",
      " [4 3 1 8]] \n",
      "\n"
     ]
    },
    {
     "data": {
      "text/plain": [
       "array([[ 0,  0, 11,  0],\n",
       "       [ 0, 11,  0,  0],\n",
       "       [ 0,  0,  0,  0],\n",
       "       [ 0,  0,  0, 11]])"
      ]
     },
     "execution_count": 122,
     "metadata": {},
     "output_type": "execute_result"
    }
   ],
   "source": [
    "arr = np.random.randint(1,10, size =(4,4))\n",
    "print(arr, '\\n')\n",
    "\n",
    "np.where(arr>5, 11,0) #조건만족시 > 11, 아니면 > 0"
   ]
  },
  {
   "cell_type": "markdown",
   "id": "2021e820",
   "metadata": {},
   "source": [
    "# 차원 변경 \n",
    "## reshape(a,b,c)"
   ]
  },
  {
   "cell_type": "markdown",
   "id": "7ffa9d00",
   "metadata": {},
   "source": [
    "- 배열로 전환 : np.array(data)"
   ]
  },
  {
   "cell_type": "code",
   "execution_count": null,
   "id": "89c8c08c",
   "metadata": {},
   "outputs": [],
   "source": [
    "#다차원 배열 만들기\n",
    "data2 = [[1,2,3,4],[5,6,7,8]] # 현재는 list\n",
    "#배열로 전환 #pd.DataFrame과 비슷한 것.\n",
    "arr2 = np.array(data2)\n",
    "\n",
    "print(arr2)\n",
    "print(arr2.ndim)\n",
    "print(arr2.shape)"
   ]
  },
  {
   "cell_type": "markdown",
   "id": "40d81434",
   "metadata": {},
   "source": [
    "- 차원 변경 : reshape(a,b,c)"
   ]
  },
  {
   "cell_type": "code",
   "execution_count": 14,
   "id": "61b27aa2",
   "metadata": {},
   "outputs": [
    {
     "name": "stdout",
     "output_type": "stream",
     "text": [
      "(2, 15) 2 \n",
      " [[ 0  1  2  3  4  5  6  7  8  9 10 11 12 13 14]\n",
      " [15 16 17 18 19 20 21 22 23 24 25 26 27 28 29]] \n",
      "\n",
      "(2, 3, 5) 3 \n",
      " [[[ 0  1  2  3  4]\n",
      "  [ 5  6  7  8  9]\n",
      "  [10 11 12 13 14]]\n",
      "\n",
      " [[15 16 17 18 19]\n",
      "  [20 21 22 23 24]\n",
      "  [25 26 27 28 29]]]\n"
     ]
    }
   ],
   "source": [
    "ar= np.arange(30)\n",
    "#2차원으로 변환\n",
    "ar2 = ar.reshape(2,15)\n",
    "print(ar2.shape, ar2.ndim,'\\n', ar2,'\\n')\n",
    "#3차원으로 변환\n",
    "ar3 = ar.reshape(2,3,5)\n",
    "print(ar3.shape, ar3.ndim,'\\n', ar3)"
   ]
  },
  {
   "cell_type": "markdown",
   "id": "b0168530",
   "metadata": {},
   "source": [
    "- reshape (-1)을 사용한 차원 변경 : 해당 자리는 자동할당"
   ]
  },
  {
   "cell_type": "code",
   "execution_count": 18,
   "id": "c75ff497",
   "metadata": {},
   "outputs": [
    {
     "name": "stdout",
     "output_type": "stream",
     "text": [
      "[[ 0  1  2  3  4  5  6  7  8  9 10 11 12 13 14]\n",
      " [15 16 17 18 19 20 21 22 23 24 25 26 27 28 29]] 2 (2, 15) \n",
      "\n",
      "[[[ 0  1  2  3  4]\n",
      "  [ 5  6  7  8  9]\n",
      "  [10 11 12 13 14]]\n",
      "\n",
      " [[15 16 17 18 19]\n",
      "  [20 21 22 23 24]\n",
      "  [25 26 27 28 29]]] 3 (2, 3, 5)\n"
     ]
    }
   ],
   "source": [
    "# 변경된 배열의 '-1' 위치의 차원은 \"원래 배열의 길이와 남은 차원으로 부터 추정\"\n",
    "ar2 = ar.reshape(-1,15)\n",
    "ar3 = ar.reshape(-1,3,5)\n",
    "print(ar2, ar2.ndim, ar2.shape, '\\n')\n",
    "print(ar3, ar3.ndim, ar3.shape)"
   ]
  },
  {
   "cell_type": "markdown",
   "id": "3c78e540",
   "metadata": {},
   "source": [
    "# 전치 \n",
    "## np.transpose() / np.swapaxes()"
   ]
  },
  {
   "cell_type": "markdown",
   "id": "c621e032",
   "metadata": {},
   "source": [
    "- 2차원 전치 (0,1)"
   ]
  },
  {
   "cell_type": "code",
   "execution_count": 14,
   "id": "e5f52a41",
   "metadata": {},
   "outputs": [
    {
     "data": {
      "text/plain": [
       "array([[1, 4, 7],\n",
       "       [2, 5, 8],\n",
       "       [3, 6, 9]])"
      ]
     },
     "execution_count": 14,
     "metadata": {},
     "output_type": "execute_result"
    }
   ],
   "source": [
    "# np.transpose() / arr.T / arr.transpose()\n",
    "arr2 = np.arange(1,10).reshape(3,3)\n",
    "arr2.T\n",
    "arr2.transpose()\n",
    "np.transpose(arr2)"
   ]
  },
  {
   "cell_type": "code",
   "execution_count": 18,
   "id": "c71fceca",
   "metadata": {},
   "outputs": [
    {
     "data": {
      "text/plain": [
       "array([[1, 4, 7],\n",
       "       [2, 5, 8],\n",
       "       [3, 6, 9]])"
      ]
     },
     "execution_count": 18,
     "metadata": {},
     "output_type": "execute_result"
    }
   ],
   "source": [
    "# np.swapaxes / swapaxes(arr, 바꿀 축 2개)\n",
    "arr2\n",
    "arr2.swapaxes(0,1)\n",
    "np.swapaxes(arr2,0,1)"
   ]
  },
  {
   "cell_type": "markdown",
   "id": "941338bd",
   "metadata": {},
   "source": [
    "- 3차원 전치 (0,1,2) <br>\n",
    ": 자릿수 인덱싱으로 .. 작은 숫자일수록 높은 차원을 의미"
   ]
  },
  {
   "cell_type": "code",
   "execution_count": 32,
   "id": "86997dd5",
   "metadata": {
    "collapsed": true
   },
   "outputs": [
    {
     "name": "stdout",
     "output_type": "stream",
     "text": [
      "[[[ 0  1  2  3  4]\n",
      "  [ 5  6  7  8  9]\n",
      "  [10 11 12 13 14]]\n",
      "\n",
      " [[15 16 17 18 19]\n",
      "  [20 21 22 23 24]\n",
      "  [25 26 27 28 29]]] (2, 3, 5) \n",
      "\n",
      "[[[ 0  1  2  3  4]\n",
      "  [15 16 17 18 19]]\n",
      "\n",
      " [[ 5  6  7  8  9]\n",
      "  [20 21 22 23 24]]\n",
      "\n",
      " [[10 11 12 13 14]\n",
      "  [25 26 27 28 29]]] (3, 2, 5) \n",
      "\n",
      "[[[ 0  1  2  3  4]\n",
      "  [15 16 17 18 19]]\n",
      "\n",
      " [[ 5  6  7  8  9]\n",
      "  [20 21 22 23 24]]\n",
      "\n",
      " [[10 11 12 13 14]\n",
      "  [25 26 27 28 29]]] (3, 2, 5)\n"
     ]
    }
   ],
   "source": [
    "arr3 = np.arange(30).reshape(2,3,5)\n",
    "print(arr3, arr3.shape, '\\n')\n",
    "\n",
    "#3차원과 2차원 바꾸기\n",
    "arr3_1= arr3.transpose(1,0,2)\n",
    "print(arr3_1, arr3_1.shape, '\\n')\n",
    "\n",
    "arr3_2 = np.swapaxes(arr3, 1,0) #swapaxes는 두개씩 맞교환?밖에 안됨.\n",
    "print(arr3_2, arr3_2.shape)"
   ]
  },
  {
   "cell_type": "markdown",
   "id": "990baf00",
   "metadata": {},
   "source": [
    "# 행렬의 종류\n",
    "\n",
    "https://math-development-geometry.tistory.com/52\n",
    "\n",
    "- 정방행렬 : 행과 열의 수가 같은 행렬 (m=n)\n",
    "- 대각행렬 : 주대각선 원소를 제외한 모든 원소들이 0인 정방행렬 (m=n), 항등행렬과 다르게 주대각선 원소에 1이외의 수가 가능\n",
    "- 항등행렬은 행렬 곱셈 연산에 항등원으로 작용하는 행렬 (=단위행렬)\n",
    "- 삼각행렬 : 주대각선 원소를 기준으로 위 또는 아래에 있는 성분이 모두 0인 정방행렬, 하삼각행렬(위 삼각형이 모두 0), 상삼각행렬(아래 삼각형이 모두 0)\n",
    "- 영행렬은 모든 원소가 0인 행렬로 곱셈 연산에서 영원으로 작용하는 행렬\n",
    "- 전치행렬은 주대각선 원소를 기준으로 행과 열을 바꿔주는 행렬, 주대각원소는 변하지 않음\n",
    "- 직교행렬은 행렬 A의 역행렬이 A의 전치행렬이고 A의 전치행렬과 A 행렬을 곱하였을때 항등행렬이 나오게 하는 행렬A <BR>\n",
    ": A의 역행렬 = A의 전치행렬 > np.dot(A전치, A) = I \n",
    "\n",
    "<img src='./직교행렬.jpg' STYLE= width300px;>\n"
   ]
  },
  {
   "cell_type": "code",
   "execution_count": 58,
   "id": "95618b0d",
   "metadata": {},
   "outputs": [
    {
     "name": "stdout",
     "output_type": "stream",
     "text": [
      "[[1 1 1]\n",
      " [1 1 1]\n",
      " [1 1 1]] \n",
      "\n",
      "[[1. 0. 0.]\n",
      " [0. 1. 0.]\n",
      " [0. 0. 1.]]\n"
     ]
    }
   ],
   "source": [
    "print(np.full((3,3),1),'\\n') #정방행렬\n",
    "print(np.eye(3)) #항등행렬, 단위행렬\n"
   ]
  },
  {
   "cell_type": "markdown",
   "id": "6c2064ba",
   "metadata": {},
   "source": [
    "## 역행렬 : np.linalg.inv(mt)\n",
    "- 행렬A와 곱했을 때, 항등행렬E가 나오는 행렬"
   ]
  },
  {
   "cell_type": "code",
   "execution_count": 72,
   "id": "7c08e09d",
   "metadata": {
    "collapsed": true
   },
   "outputs": [
    {
     "name": "stdout",
     "output_type": "stream",
     "text": [
      "[[1 2 1]\n",
      " [2 2 3]\n",
      " [1 3 1]] \n",
      "\n",
      "[[ 7. -1. -4.]\n",
      " [-1.  0.  1.]\n",
      " [-4.  1.  2.]] \n",
      "\n"
     ]
    },
    {
     "data": {
      "text/plain": [
       "array([[1., 0., 0.],\n",
       "       [0., 1., 0.],\n",
       "       [0., 0., 1.]])"
      ]
     },
     "execution_count": 72,
     "metadata": {},
     "output_type": "execute_result"
    }
   ],
   "source": [
    "#linalg라는 서브모듈이 필요\n",
    "np.random.seed(0)\n",
    "mt1= np.random.randint(1,4, size=(3,3))\n",
    "print(mt1, '\\n')\n",
    "mt2 = np.linalg.inv(mt1)\n",
    "print(mt2, '\\n')\n",
    "\n",
    "#행렬 * 역행렬 = 항등행렬\n",
    "np.dot(mt1, mt2)"
   ]
  },
  {
   "cell_type": "markdown",
   "id": "e7ccf318",
   "metadata": {},
   "source": [
    "# 배열 초기화\n",
    "- np.ones() / np.full() / np.eye() / np.zeros() <br>\n",
    "원하는 shape로 배열을 설정하고, 각 요소를 특정 값으로 초기화\n",
    "<br>\n",
    "\n",
    "- np.zeros_like(), np.ones_like(), np.full_like() <br>\n",
    ": 파라미터로 입력한 배열과 같은 shape의 배열을 만듦 "
   ]
  },
  {
   "cell_type": "code",
   "execution_count": 54,
   "id": "4eca00df",
   "metadata": {
    "collapsed": true
   },
   "outputs": [
    {
     "name": "stdout",
     "output_type": "stream",
     "text": [
      "[[0. 0. 0.]\n",
      " [0. 0. 0.]\n",
      " [0. 0. 0.]] \n",
      "\n",
      "[[4 4 4]\n",
      " [4 4 4]\n",
      " [4 4 4]] \n",
      "\n",
      "[[1. 1. 1.]\n",
      " [1. 1. 1.]\n",
      " [1. 1. 1.]] \n",
      "\n",
      "[[1. 0. 0.]\n",
      " [0. 1. 0.]\n",
      " [0. 0. 1.]]\n"
     ]
    }
   ],
   "source": [
    "print(np.zeros((3,3)),'\\n')\n",
    "print(np.full((3,3),4),'\\n')\n",
    "print(np.ones((3,3)),'\\n')\n",
    "print(np.eye(3,3)) #항등행렬"
   ]
  },
  {
   "cell_type": "code",
   "execution_count": 80,
   "id": "4947eab9",
   "metadata": {},
   "outputs": [
    {
     "name": "stdout",
     "output_type": "stream",
     "text": [
      "[[0 1 2 3 4]\n",
      " [5 6 7 8 9]]\n"
     ]
    },
    {
     "data": {
      "text/plain": [
       "(array([[0, 0, 0, 0, 0],\n",
       "        [0, 0, 0, 0, 0]]),\n",
       " array([[1, 1, 1, 1, 1],\n",
       "        [1, 1, 1, 1, 1]]),\n",
       " array([[5, 5, 5, 5, 5],\n",
       "        [5, 5, 5, 5, 5]]))"
      ]
     },
     "execution_count": 80,
     "metadata": {},
     "output_type": "execute_result"
    }
   ],
   "source": [
    "a= np.arange(10).reshape(2,5)\n",
    "print(a)\n",
    "z = np.zeros_like(a) #zero를 a.shape으로\n",
    "o = np.ones_like(a)\n",
    "f = np.full_like(a,5)\n",
    "z, o ,f"
   ]
  },
  {
   "cell_type": "markdown",
   "id": "b34fd6c2",
   "metadata": {},
   "source": [
    "- np.tile(반복할 ar, (m,n)) <br>\n",
    "\n",
    "1) np.zeros((8,8))을 이용하여 아래와 같이 출력하세요 <br>\n",
    "```\n",
    "array([[0, 1, 0, 1, 0, 1, 0, 1],\n",
    "       [1, 0, 1, 0, 1, 0, 1, 0],\n",
    "       [0, 1, 0, 1, 0, 1, 0, 1],\n",
    "       [1, 0, 1, 0, 1, 0, 1, 0],\n",
    "       [0, 1, 0, 1, 0, 1, 0, 1],\n",
    "       [1, 0, 1, 0, 1, 0, 1, 0],\n",
    "       [0, 1, 0, 1, 0, 1, 0, 1],\n",
    "       [1, 0, 1, 0, 1, 0, 1, 0]])\n",
    "```"
   ]
  },
  {
   "cell_type": "code",
   "execution_count": 141,
   "id": "32eba221",
   "metadata": {
    "collapsed": true
   },
   "outputs": [
    {
     "data": {
      "text/plain": [
       "array([[0, 1, 0, 1, 0, 1, 0, 1],\n",
       "       [1, 0, 1, 0, 1, 0, 1, 0],\n",
       "       [0, 1, 0, 1, 0, 1, 0, 1],\n",
       "       [1, 0, 1, 0, 1, 0, 1, 0],\n",
       "       [0, 1, 0, 1, 0, 1, 0, 1],\n",
       "       [1, 0, 1, 0, 1, 0, 1, 0],\n",
       "       [0, 1, 0, 1, 0, 1, 0, 1],\n",
       "       [1, 0, 1, 0, 1, 0, 1, 0]])"
      ]
     },
     "execution_count": 141,
     "metadata": {},
     "output_type": "execute_result"
    }
   ],
   "source": [
    "#방법1\n",
    "ar = np.zeros((8,8))\n",
    "ar_tile = np.array([[0,1],[1,0]]) #반복할 ar\n",
    "\n",
    "np.tile(ar_tile,(4,4))"
   ]
  },
  {
   "cell_type": "code",
   "execution_count": 148,
   "id": "d046a1af",
   "metadata": {
    "collapsed": true
   },
   "outputs": [
    {
     "data": {
      "text/plain": [
       "array([[0., 1., 0., 1., 0., 1., 0., 1.],\n",
       "       [1., 0., 1., 0., 1., 0., 1., 0.],\n",
       "       [0., 1., 0., 1., 0., 1., 0., 1.],\n",
       "       [1., 0., 1., 0., 1., 0., 1., 0.],\n",
       "       [0., 1., 0., 1., 0., 1., 0., 1.],\n",
       "       [1., 0., 1., 0., 1., 0., 1., 0.],\n",
       "       [0., 1., 0., 1., 0., 1., 0., 1.],\n",
       "       [1., 0., 1., 0., 1., 0., 1., 0.]])"
      ]
     },
     "execution_count": 148,
     "metadata": {},
     "output_type": "execute_result"
    }
   ],
   "source": [
    "#방법2\n",
    "ar = np.zeros((8,8))\n",
    "ar[::2,1::2] =1\n",
    "ar[1::2,::2]=1\n",
    "ar"
   ]
  },
  {
   "cell_type": "markdown",
   "id": "34f374e7",
   "metadata": {},
   "source": [
    "# 기타"
   ]
  },
  {
   "cell_type": "markdown",
   "id": "d7faad8a",
   "metadata": {},
   "source": [
    "## np.linspace(a, b, n)\n",
    "- a~b사이를 n으로 균등하게 나누기"
   ]
  },
  {
   "cell_type": "code",
   "execution_count": 61,
   "id": "a8254d37",
   "metadata": {
    "collapsed": true
   },
   "outputs": [
    {
     "data": {
      "text/plain": [
       "array([ 1.        ,  1.18367347,  1.36734694,  1.55102041,  1.73469388,\n",
       "        1.91836735,  2.10204082,  2.28571429,  2.46938776,  2.65306122,\n",
       "        2.83673469,  3.02040816,  3.20408163,  3.3877551 ,  3.57142857,\n",
       "        3.75510204,  3.93877551,  4.12244898,  4.30612245,  4.48979592,\n",
       "        4.67346939,  4.85714286,  5.04081633,  5.2244898 ,  5.40816327,\n",
       "        5.59183673,  5.7755102 ,  5.95918367,  6.14285714,  6.32653061,\n",
       "        6.51020408,  6.69387755,  6.87755102,  7.06122449,  7.24489796,\n",
       "        7.42857143,  7.6122449 ,  7.79591837,  7.97959184,  8.16326531,\n",
       "        8.34693878,  8.53061224,  8.71428571,  8.89795918,  9.08163265,\n",
       "        9.26530612,  9.44897959,  9.63265306,  9.81632653, 10.        ])"
      ]
     },
     "execution_count": 61,
     "metadata": {},
     "output_type": "execute_result"
    }
   ],
   "source": [
    "np.linspace(1,10) # default : n =50"
   ]
  },
  {
   "cell_type": "code",
   "execution_count": 65,
   "id": "e63031c4",
   "metadata": {},
   "outputs": [
    {
     "name": "stdout",
     "output_type": "stream",
     "text": [
      "[ 1.  4.  7. 10.]\n"
     ]
    },
    {
     "data": {
      "text/plain": [
       "(array([ 1.,  4.,  7., 10.]), 3.0)"
      ]
     },
     "execution_count": 65,
     "metadata": {},
     "output_type": "execute_result"
    }
   ],
   "source": [
    "print(np.linspace(1,10, 4))\n",
    "np.linspace(1,10,4, retstep=True) #구간 간격 값"
   ]
  },
  {
   "cell_type": "code",
   "execution_count": 67,
   "id": "0ea0c8be",
   "metadata": {
    "scrolled": true
   },
   "outputs": [
    {
     "data": {
      "text/plain": [
       "[<matplotlib.lines.Line2D at 0x1b408c01190>]"
      ]
     },
     "execution_count": 67,
     "metadata": {},
     "output_type": "execute_result"
    },
    {
     "data": {
      "image/png": "[encoded data removed]",
      "text/plain": [
       "<Figure size 432x288 with 1 Axes>"
      ]
     },
     "metadata": {
      "needs_background": "light"
     },
     "output_type": "display_data"
    }
   ],
   "source": [
    "import matplotlib.pyplot as plt\n",
    "x = np.linspace(0,1,10)\n",
    "y = np.linspace(0,50,10)\n",
    "plt.plot(x,y,'o') #표기할 문자"
   ]
  },
  {
   "cell_type": "markdown",
   "id": "e94010a0",
   "metadata": {},
   "source": [
    "# ndarray 데이터 형태\n",
    "<img src= '데이터형태.jpg' STYLE='width:500px;'>"
   ]
  },
  {
   "cell_type": "markdown",
   "id": "7bdfd56d",
   "metadata": {},
   "source": [
    "## 데이터 형태 지정 및 변경"
   ]
  },
  {
   "cell_type": "markdown",
   "id": "f527f10e",
   "metadata": {},
   "source": [
    "- astype('type')"
   ]
  },
  {
   "cell_type": "code",
   "execution_count": 81,
   "id": "507165ec",
   "metadata": {},
   "outputs": [
    {
     "name": "stdout",
     "output_type": "stream",
     "text": [
      "int32\n",
      "float64\n"
     ]
    }
   ],
   "source": [
    "arr = np.array([1,2,3,4,5],)\n",
    "print(arr.dtype)\n",
    "\n",
    "float_arr = arr.astype('float')\n",
    "print(float_arr.dtype)"
   ]
  },
  {
   "cell_type": "code",
   "execution_count": 82,
   "id": "26afccc9",
   "metadata": {},
   "outputs": [
    {
     "name": "stdout",
     "output_type": "stream",
     "text": [
      "[b'1' b'2' b'3' b'4' b'5'] |S1\n"
     ]
    }
   ],
   "source": [
    "numeric_string = np.array([1,2,3,4,5], dtype='S') #만들면서 type지정 가능\n",
    "print(numeric_string, numeric_string.dtype) #'S'는 바이트 문자열 > (b=byte)"
   ]
  },
  {
   "cell_type": "code",
   "execution_count": 83,
   "id": "887f010d",
   "metadata": {},
   "outputs": [
    {
     "name": "stdout",
     "output_type": "stream",
     "text": [
      "[1 2 3 4 5] int32\n"
     ]
    }
   ],
   "source": [
    "num = numeric_string.astype('int')\n",
    "print(num, num.dtype)"
   ]
  },
  {
   "cell_type": "markdown",
   "id": "2e2f49a7",
   "metadata": {},
   "source": [
    "- tolist()"
   ]
  },
  {
   "cell_type": "code",
   "execution_count": 91,
   "id": "66da4edd",
   "metadata": {},
   "outputs": [
    {
     "name": "stdout",
     "output_type": "stream",
     "text": [
      "[1, 2, 3, 4, 5] <class 'list'>\n"
     ]
    }
   ],
   "source": [
    "# ar > list\n",
    "ar = np.array([1,2,3,4,5])\n",
    "print(ar.tolist(), type(ar.tolist()))"
   ]
  },
  {
   "cell_type": "markdown",
   "id": "6dc9d24a",
   "metadata": {},
   "source": [
    "# 뷰(참조)\n",
    "- 넘파이의 ndarray를 슬라이싱할 때는 파이썬의 리스트(list)와 다르게 원본의 <참조>가 생성 <br>\n",
    ": 복사가 남발되면 메모리 문제를 일으킬 소지가 많기 때문\n",
    "\n",
    "- 복사가 아니고 뷰(참조의 개념)이기 때문에 원본이 바뀌면, 참조본도 바뀜\n",
    "- 리스트의 슬라이싱에서는 복사본이 생성되는 것과는 다른 동작이기 때문에 주의\n",
    "- 슬라이싱의 복사본을 생성하고 싶다면 copy() 속성을 이용\n",
    "\n",
    "http://taewan.kim/post/numpy_cheat_sheet/"
   ]
  },
  {
   "cell_type": "code",
   "execution_count": 88,
   "id": "c67abafa",
   "metadata": {},
   "outputs": [
    {
     "name": "stdout",
     "output_type": "stream",
     "text": [
      "[1, 2, 3, 4, 5, 6, 7, 8, 9, 10] \n",
      "\n",
      "[1, 2, 3, 4, 5] \n",
      "\n",
      "[1, 0, 3, 4, 5] \n",
      "\n",
      "[1, 2, 3, 4, 5, 6, 7, 8, 9, 10]\n"
     ]
    }
   ],
   "source": [
    "# list - copy\n",
    "li = list(np.arange(1,11))\n",
    "print(li, '\\n')\n",
    "\n",
    "li_slice = li[:5] #copy\n",
    "print(li_slice, '\\n')\n",
    "li_slice[1] = 0\n",
    "\n",
    "print(li_slice,'\\n')\n",
    "print(li)"
   ]
  },
  {
   "cell_type": "code",
   "execution_count": 85,
   "id": "73569151",
   "metadata": {
    "scrolled": true
   },
   "outputs": [
    {
     "name": "stdout",
     "output_type": "stream",
     "text": [
      "[0 1 2 3 4 5 6 7 8 9] \n",
      "\n",
      "[5 6 7] \n",
      "\n",
      "[12 12 12] \n",
      "\n",
      "[ 0  1  2  3  4 12 12 12  8  9]\n"
     ]
    }
   ],
   "source": [
    "# array - view : 원본을 변경\n",
    "arr = np.arange(10)\n",
    "print(arr,'\\n')\n",
    "\n",
    "li_slice = arr[5:8] #view\n",
    "print(li_slice,'\\n')\n",
    "li_slice[:] = 12\n",
    "print(li_slice,'\\n')\n",
    "\n",
    "print(arr)"
   ]
  },
  {
   "cell_type": "markdown",
   "id": "1100eea1",
   "metadata": {},
   "source": [
    "# 인덱싱\n",
    "- 기존의 pandas와 동일"
   ]
  },
  {
   "cell_type": "markdown",
   "id": "b33b6a6b",
   "metadata": {},
   "source": [
    "## boolean 인덱싱"
   ]
  },
  {
   "cell_type": "code",
   "execution_count": 115,
   "id": "3530aafe",
   "metadata": {},
   "outputs": [
    {
     "name": "stdout",
     "output_type": "stream",
     "text": [
      "[6 7 8 9] \n",
      "\n",
      "[False False False False False  True  True  True  True]\n"
     ]
    },
    {
     "data": {
      "text/plain": [
       "4"
      ]
     },
     "execution_count": 115,
     "metadata": {},
     "output_type": "execute_result"
    }
   ],
   "source": [
    "arr1d = np.arange(1,10)\n",
    "arr1 = arr1d[arr1d > 5 ]\n",
    "print(arr1, '\\n')\n",
    "\n",
    "print(arr1d > 5) #bool값 반환\n",
    "(arr1d > 5).sum() #True의 갯수 반환"
   ]
  },
  {
   "cell_type": "code",
   "execution_count": 97,
   "id": "446c9c5c",
   "metadata": {},
   "outputs": [
    {
     "name": "stdout",
     "output_type": "stream",
     "text": [
      "3,6,9,12,15,18,21,24,27,30,33,36,39,42,45,48,51,54,57,60,63,66,69,72,75,78,81,84,87,90,93,96,99,"
     ]
    },
    {
     "data": {
      "text/plain": [
       "array([ 3,  6,  9, 12, 15, 18, 21, 24, 27, 30, 33, 36, 39, 42, 45, 48, 51,\n",
       "       54, 57, 60, 63, 66, 69, 72, 75, 78, 81, 84, 87, 90, 93, 96, 99])"
      ]
     },
     "execution_count": 97,
     "metadata": {},
     "output_type": "execute_result"
    }
   ],
   "source": [
    "#Q1. 1~100까지 정수에서 3의 배수인 것만을 출력(for문과 배열, 두가지방식)\n",
    "#for\n",
    "for i in range(1,101):\n",
    "    if i%3 ==0:\n",
    "        print(i,end=',')\n",
    "\n",
    "#배열\n",
    "arr = np.arange(1,101)\n",
    "arr[arr%3 ==0]"
   ]
  },
  {
   "cell_type": "markdown",
   "id": "7f092201",
   "metadata": {},
   "source": [
    "- any(), all() 메서드"
   ]
  },
  {
   "cell_type": "code",
   "execution_count": 116,
   "id": "c96b6a0a",
   "metadata": {
    "scrolled": true
   },
   "outputs": [
    {
     "name": "stdout",
     "output_type": "stream",
     "text": [
      "True\n"
     ]
    },
    {
     "data": {
      "text/plain": [
       "False"
      ]
     },
     "execution_count": 116,
     "metadata": {},
     "output_type": "execute_result"
    }
   ],
   "source": [
    "bools= np.array([False, False, True, True])\n",
    "print(bools.any()) #하나라도 참이면 참\n",
    "bools.all() #전부다 참일 때, 참"
   ]
  },
  {
   "cell_type": "markdown",
   "id": "37ff4970",
   "metadata": {},
   "source": [
    "## np.where(조건, T, F)\n",
    "- 삼항식의 벡터화 버전"
   ]
  },
  {
   "cell_type": "code",
   "execution_count": 126,
   "id": "9ebdaadd",
   "metadata": {
    "scrolled": true
   },
   "outputs": [
    {
     "name": "stdout",
     "output_type": "stream",
     "text": [
      "[[ -9  -6   0   1]\n",
      " [ -2   1  -8   9]\n",
      " [  6 -10 -10  -4]\n",
      " [  9   4   0   9]] \n",
      "\n"
     ]
    },
    {
     "data": {
      "text/plain": [
       "array([[0, 0, 0, 1],\n",
       "       [0, 1, 0, 1],\n",
       "       [1, 0, 0, 0],\n",
       "       [1, 1, 0, 1]])"
      ]
     },
     "execution_count": 126,
     "metadata": {},
     "output_type": "execute_result"
    }
   ],
   "source": [
    "arr = np.random.randint(-10,10, size =(4,4))\n",
    "print(arr, '\\n')\n",
    "\n",
    "np.where(arr>0, 1,0) #조건만족시 > 11, 아니면 > 0"
   ]
  },
  {
   "cell_type": "code",
   "execution_count": 128,
   "id": "49ba8cfd",
   "metadata": {},
   "outputs": [
    {
     "data": {
      "text/plain": [
       "array([[ -9,  -6,   0,   1],\n",
       "       [ -2,   1,  -8,   1],\n",
       "       [  1, -10, -10,  -4],\n",
       "       [  1,   1,   0,   1]])"
      ]
     },
     "execution_count": 128,
     "metadata": {},
     "output_type": "execute_result"
    }
   ],
   "source": [
    "# Q. arr의 모든 양수를 2로 변경하세요.\n",
    "np.where(arr>0,1,arr)"
   ]
  },
  {
   "cell_type": "markdown",
   "id": "d3edf5ec",
   "metadata": {},
   "source": [
    "# random"
   ]
  },
  {
   "cell_type": "markdown",
   "id": "cf3d7a08",
   "metadata": {},
   "source": [
    "## np.random\n",
    "- np.random.seed : seed를 통한 난수 생성\n",
    "- np.random.randint : 정수 난수 1개 생성\n",
    "- np.random.rand : 0부터 1사이의 균일분포에서 난수 매트릭스 배열 생성\n",
    "- np.random.randn : 가우시안 표준 정규분포에서 난수 매트릭스 배열 생성\n",
    "- np.random.shuffle : 기존의 데이터의 순서 바꾸기\n",
    "- np.random.choice : 기존 데이터에서 sampling"
   ]
  },
  {
   "cell_type": "markdown",
   "id": "1dd0a165",
   "metadata": {},
   "source": [
    "## python random\n",
    "- import random\n",
    "- random.random() : 0과 1 사이 난수 반환\n",
    "- random.randint() : 지정범위 내(끝 값 포함), 정수 난수 반환\n",
    "- random.uniform(min,max) : min, max 사이 float반환\n",
    "- random.randarange() : 지정범위 내, 정수 반환\n",
    "- random.choice(list) : list 중 only 1개 반환 #문자에 사용가능\n",
    "- random.sample(list, n) : list 중 n개 반환(중복없이) #문자에 사용가능\n",
    "- random.shuffle(list) / print(list) : list를 무작위로 섞어 반환 > print로 출력해야함"
   ]
  },
  {
   "cell_type": "code",
   "execution_count": 5,
   "id": "3cf6062a",
   "metadata": {},
   "outputs": [
    {
     "name": "stdout",
     "output_type": "stream",
     "text": [
      "0.13139852791722728 \n",
      "\n",
      "2 \n",
      "\n",
      "10.417546391874637 \n",
      "\n",
      "0 \n",
      "\n",
      "5 \n",
      "\n",
      "[3, 2, 1]\n",
      "[3, 1, 2, 5, 4]\n"
     ]
    }
   ],
   "source": [
    "#python의 random\n",
    "import random\n",
    "print(random.random(),'\\n')\n",
    "print(random.randint(1,10),'\\n') \n",
    "print(random.uniform(10,20),'\\n')\n",
    "print(random.randrange(10),'\\n') \n",
    "print(random.choice([1,2,3,4,5]),'\\n')\n",
    "\n",
    "li=[1,2,3,4,5]\n",
    "print(random.sample(li, 3)) \n",
    "\n",
    "random.shuffle(li) \n",
    "print(li)"
   ]
  },
  {
   "cell_type": "code",
   "execution_count": null,
   "id": "f64f855c",
   "metadata": {},
   "outputs": [],
   "source": []
  },
  {
   "cell_type": "code",
   "execution_count": null,
   "id": "0aa04c30",
   "metadata": {},
   "outputs": [],
   "source": []
  },
  {
   "cell_type": "code",
   "execution_count": null,
   "id": "97e8bb1d",
   "metadata": {},
   "outputs": [],
   "source": []
  },
  {
   "cell_type": "code",
   "execution_count": null,
   "id": "31c24b5c",
   "metadata": {},
   "outputs": [],
   "source": []
  }
 ],
 "metadata": {
  "kernelspec": {
   "display_name": "Python 3 (ipykernel)",
   "language": "python",
   "name": "python3"
  },
  "language_info": {
   "codemirror_mode": {
    "name": "ipython",
    "version": 3
   },
   "file_extension": ".py",
   "mimetype": "text/x-python",
   "name": "python",
   "nbconvert_exporter": "python",
   "pygments_lexer": "ipython3",
   "version": "3.8.13"
  },
  "toc": {
   "base_numbering": 1,
   "nav_menu": {},
   "number_sections": true,
   "sideBar": true,
   "skip_h1_title": false,
   "title_cell": "Table of Contents",
   "title_sidebar": "Contents",
   "toc_cell": false,
   "toc_position": {
    "height": "calc(100% - 180px)",
    "left": "10px",
    "top": "150px",
    "width": "204.594px"
   },
   "toc_section_display": true,
   "toc_window_display": true
  }
 },
 "nbformat": 4,
 "nbformat_minor": 5
}
