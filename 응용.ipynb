{
 "cells": [
  {
   "cell_type": "code",
   "execution_count": 83,
   "id": "e67f3368",
   "metadata": {},
   "outputs": [],
   "source": [
    "import pandas as pd\n",
    "import random #np.random과 차이?\n",
    "import numpy as np"
   ]
  },
  {
   "cell_type": "code",
   "execution_count": 146,
   "id": "b3d55331",
   "metadata": {},
   "outputs": [],
   "source": [
    "import warnings\n",
    "warnings.filterwarnings('ignore')"
   ]
  },
  {
   "cell_type": "markdown",
   "id": "f37f444a",
   "metadata": {},
   "source": [
    "# random\n",
    "- np.random.seed : seed를 통한 난수 생성\n",
    "- np.random.randint : 정수 난수 1개 생성\n",
    "- np.random.rand : 0부터 1사이의 균일분포에서 난수 매트릭스 배열 생성\n",
    "- np.random.randn : 가우시안 표준 정규분포에서 난수 매트릭스 배열 생성\n",
    "- np.random.shuffle : 기존의 데이터의 순서 바꾸기\n",
    "- np.random.choice : 기존 데이터에서 sampling\n"
   ]
  },
  {
   "cell_type": "code",
   "execution_count": 28,
   "id": "ce0e373f",
   "metadata": {},
   "outputs": [
    {
     "name": "stdout",
     "output_type": "stream",
     "text": [
      "0.6826550993236336 \n",
      "\n",
      "2 \n",
      "\n",
      "19.873621835985475 \n",
      "\n",
      "0 \n",
      "\n",
      "4 \n",
      "\n",
      "[1, 2, 3]\n",
      "[2, 4, 1, 3, 5]\n"
     ]
    }
   ],
   "source": [
    "import random\n",
    "import numpy as np\n",
    "\n",
    "#python의 random\n",
    "print(random.random(),'\\n') #0 <= x < 1사이 난수반환\n",
    "print(random.randint(1,10),'\\n') #1 <= x <= 10 포함!!!! 정수 난수반환\n",
    "print(random.uniform(10,20),'\\n') # min, max 사이 float반환\n",
    "print(random.randrange(10),'\\n') # 지정 범위 내, 정수 반환\n",
    "print(random.choice([1,2,3,4,5]),'\\n') #list 중 1개 선택 반환\n",
    "\n",
    "li=[1,2,3,4,5]\n",
    "print(random.sample(li, 3)) #list 중에 n개 추출(중복X)\n",
    "\n",
    "random.shuffle(li) #list를 무작위로 섞어 반환\n",
    "print(li) #바로 print(random.shuffle(li))를 할 수는 없음 ㅠㅠ"
   ]
  },
  {
   "cell_type": "code",
   "execution_count": 71,
   "id": "0248f134",
   "metadata": {},
   "outputs": [
    {
     "name": "stdout",
     "output_type": "stream",
     "text": [
      "0.4310626899496664 0.5002055784999286\n"
     ]
    }
   ],
   "source": [
    "#uniform dist X~U(0,1)\n",
    "r1 = np.random.rand(5) #0~1 사이 #n=5여서 평균 0.5의 오차가 크게나옴\n",
    "# print(r1)\n",
    "r2 = np.random.rand(100000)\n",
    "print(r1.mean(), r2.mean())"
   ]
  },
  {
   "cell_type": "code",
   "execution_count": 74,
   "id": "17882e5f",
   "metadata": {},
   "outputs": [
    {
     "name": "stdout",
     "output_type": "stream",
     "text": [
      "[-0.64481944 -1.16106964  0.56461058 ...  1.51749022  0.31312284\n",
      " -2.84422478] \n",
      "\n",
      "-0.004500839360453742 1.002986004879721\n"
     ]
    }
   ],
   "source": [
    "#standard normal dist X ~ N(0,1)\n",
    "r = np.random.randn(10000)\n",
    "print(r, '\\n')\n",
    "print(r.mean(), r.std())"
   ]
  },
  {
   "cell_type": "code",
   "execution_count": 76,
   "id": "21d5c102",
   "metadata": {},
   "outputs": [
    {
     "data": {
      "text/plain": [
       "array([1.2425932 , 1.23687796, 1.01011452, 1.68868246, 1.88091678,\n",
       "       1.47173503, 1.06687539, 1.11215469, 1.11414012, 1.43297886])"
      ]
     },
     "execution_count": 76,
     "metadata": {},
     "output_type": "execute_result"
    }
   ],
   "source": [
    "np.random.uniform(1.0,2.0, size=10) # random.randint의 float ver."
   ]
  },
  {
   "cell_type": "code",
   "execution_count": 79,
   "id": "606e9328",
   "metadata": {},
   "outputs": [
    {
     "data": {
      "text/plain": [
       "array([[[0.13803778, 0.42627779],\n",
       "        [0.04460471, 0.0225992 ]],\n",
       "\n",
       "       [[0.41347064, 0.57035527],\n",
       "        [0.58899628, 0.57720298]]])"
      ]
     },
     "execution_count": 79,
     "metadata": {},
     "output_type": "execute_result"
    }
   ],
   "source": [
    "np.random.uniform(0,1,size=(2,3)) #2차원array도 가능~\n",
    "np.random.uniform(0,1,size=(2,2,2)) #3차원도 가능"
   ]
  },
  {
   "cell_type": "code",
   "execution_count": 80,
   "id": "6424e040",
   "metadata": {},
   "outputs": [
    {
     "data": {
      "text/plain": [
       "array([[0.81525278, 0.72359613, 0.63705285],\n",
       "       [0.71679278, 0.3845148 , 0.84936008]])"
      ]
     },
     "execution_count": 80,
     "metadata": {},
     "output_type": "execute_result"
    }
   ],
   "source": [
    "# 0 ~ 1 사이 난수 실수값으로 행렬 생성\n",
    "# VS. uniform : min, max를 0,1로 고정\n",
    "np.random.random_sample((2,3))"
   ]
  },
  {
   "cell_type": "markdown",
   "id": "fd43c0a8",
   "metadata": {},
   "source": [
    "## pandas와 함께"
   ]
  },
  {
   "cell_type": "code",
   "execution_count": 138,
   "id": "7dae365f",
   "metadata": {},
   "outputs": [
    {
     "data": {
      "text/html": [
       "<div>\n",
       "<style scoped>\n",
       "    .dataframe tbody tr th:only-of-type {\n",
       "        vertical-align: middle;\n",
       "    }\n",
       "\n",
       "    .dataframe tbody tr th {\n",
       "        vertical-align: top;\n",
       "    }\n",
       "\n",
       "    .dataframe thead th {\n",
       "        text-align: right;\n",
       "    }\n",
       "</style>\n",
       "<table border=\"1\" class=\"dataframe\">\n",
       "  <thead>\n",
       "    <tr style=\"text-align: right;\">\n",
       "      <th></th>\n",
       "      <th>id</th>\n",
       "      <th>gender</th>\n",
       "      <th>age</th>\n",
       "      <th>region</th>\n",
       "      <th>product</th>\n",
       "      <th>price</th>\n",
       "      <th>qty</th>\n",
       "      <th>time</th>\n",
       "    </tr>\n",
       "  </thead>\n",
       "  <tbody>\n",
       "    <tr>\n",
       "      <th>0</th>\n",
       "      <td>0.960892</td>\n",
       "      <td>0.846503</td>\n",
       "      <td>0.237684</td>\n",
       "      <td>0.101068</td>\n",
       "      <td>0.977876</td>\n",
       "      <td>0.854603</td>\n",
       "      <td>0.864949</td>\n",
       "      <td>0.925185</td>\n",
       "    </tr>\n",
       "    <tr>\n",
       "      <th>1</th>\n",
       "      <td>0.973804</td>\n",
       "      <td>0.756800</td>\n",
       "      <td>0.418597</td>\n",
       "      <td>0.616379</td>\n",
       "      <td>0.001305</td>\n",
       "      <td>0.980864</td>\n",
       "      <td>0.059599</td>\n",
       "      <td>0.617506</td>\n",
       "    </tr>\n",
       "    <tr>\n",
       "      <th>2</th>\n",
       "      <td>0.794763</td>\n",
       "      <td>0.958213</td>\n",
       "      <td>0.209838</td>\n",
       "      <td>0.045508</td>\n",
       "      <td>0.585400</td>\n",
       "      <td>0.434068</td>\n",
       "      <td>0.198867</td>\n",
       "      <td>0.537586</td>\n",
       "    </tr>\n",
       "    <tr>\n",
       "      <th>3</th>\n",
       "      <td>0.192908</td>\n",
       "      <td>0.187789</td>\n",
       "      <td>0.859256</td>\n",
       "      <td>0.723208</td>\n",
       "      <td>0.819772</td>\n",
       "      <td>0.144715</td>\n",
       "      <td>0.075639</td>\n",
       "      <td>0.572451</td>\n",
       "    </tr>\n",
       "  </tbody>\n",
       "</table>\n",
       "</div>"
      ],
      "text/plain": [
       "         id    gender       age    region   product     price       qty  \\\n",
       "0  0.960892  0.846503  0.237684  0.101068  0.977876  0.854603  0.864949   \n",
       "1  0.973804  0.756800  0.418597  0.616379  0.001305  0.980864  0.059599   \n",
       "2  0.794763  0.958213  0.209838  0.045508  0.585400  0.434068  0.198867   \n",
       "3  0.192908  0.187789  0.859256  0.723208  0.819772  0.144715  0.075639   \n",
       "\n",
       "       time  \n",
       "0  0.925185  \n",
       "1  0.617506  \n",
       "2  0.537586  \n",
       "3  0.572451  "
      ]
     },
     "execution_count": 138,
     "metadata": {},
     "output_type": "execute_result"
    }
   ],
   "source": [
    "#균일분포\n",
    "ar = np.random.rand(4,8)\n",
    "df = pd.DataFrame(ar, columns = ['id','gender','age','region','product','price','qty','time']\n",
    ")\n",
    "df"
   ]
  },
  {
   "cell_type": "code",
   "execution_count": 144,
   "id": "156783e7",
   "metadata": {},
   "outputs": [
    {
     "data": {
      "text/html": [
       "<div>\n",
       "<style scoped>\n",
       "    .dataframe tbody tr th:only-of-type {\n",
       "        vertical-align: middle;\n",
       "    }\n",
       "\n",
       "    .dataframe tbody tr th {\n",
       "        vertical-align: top;\n",
       "    }\n",
       "\n",
       "    .dataframe thead th {\n",
       "        text-align: right;\n",
       "    }\n",
       "</style>\n",
       "<table border=\"1\" class=\"dataframe\">\n",
       "  <thead>\n",
       "    <tr style=\"text-align: right;\">\n",
       "      <th></th>\n",
       "      <th>id</th>\n",
       "      <th>gender</th>\n",
       "      <th>age</th>\n",
       "    </tr>\n",
       "  </thead>\n",
       "  <tbody>\n",
       "    <tr>\n",
       "      <th>0</th>\n",
       "      <td>0.960892</td>\n",
       "      <td>0.846503</td>\n",
       "      <td>0.237684</td>\n",
       "    </tr>\n",
       "    <tr>\n",
       "      <th>1</th>\n",
       "      <td>0.973804</td>\n",
       "      <td>0.756800</td>\n",
       "      <td>0.418597</td>\n",
       "    </tr>\n",
       "    <tr>\n",
       "      <th>2</th>\n",
       "      <td>0.794763</td>\n",
       "      <td>0.958213</td>\n",
       "      <td>0.209838</td>\n",
       "    </tr>\n",
       "    <tr>\n",
       "      <th>3</th>\n",
       "      <td>0.192908</td>\n",
       "      <td>0.187789</td>\n",
       "      <td>0.859256</td>\n",
       "    </tr>\n",
       "  </tbody>\n",
       "</table>\n",
       "</div>"
      ],
      "text/plain": [
       "         id    gender       age\n",
       "0  0.960892  0.846503  0.237684\n",
       "1  0.973804  0.756800  0.418597\n",
       "2  0.794763  0.958213  0.209838\n",
       "3  0.192908  0.187789  0.859256"
      ]
     },
     "execution_count": 144,
     "metadata": {},
     "output_type": "execute_result"
    }
   ],
   "source": [
    "# 값변환\n",
    "df3 = df[['id','gender','age']]\n",
    "df3"
   ]
  },
  {
   "cell_type": "code",
   "execution_count": 161,
   "id": "a2ea2f8c",
   "metadata": {},
   "outputs": [
    {
     "data": {
      "text/html": [
       "<div>\n",
       "<style scoped>\n",
       "    .dataframe tbody tr th:only-of-type {\n",
       "        vertical-align: middle;\n",
       "    }\n",
       "\n",
       "    .dataframe tbody tr th {\n",
       "        vertical-align: top;\n",
       "    }\n",
       "\n",
       "    .dataframe thead th {\n",
       "        text-align: right;\n",
       "    }\n",
       "</style>\n",
       "<table border=\"1\" class=\"dataframe\">\n",
       "  <thead>\n",
       "    <tr style=\"text-align: right;\">\n",
       "      <th></th>\n",
       "      <th>id</th>\n",
       "      <th>gender</th>\n",
       "      <th>age</th>\n",
       "    </tr>\n",
       "  </thead>\n",
       "  <tbody>\n",
       "    <tr>\n",
       "      <th>0</th>\n",
       "      <td>1</td>\n",
       "      <td>female</td>\n",
       "      <td>36</td>\n",
       "    </tr>\n",
       "    <tr>\n",
       "      <th>1</th>\n",
       "      <td>2</td>\n",
       "      <td>female</td>\n",
       "      <td>14</td>\n",
       "    </tr>\n",
       "    <tr>\n",
       "      <th>2</th>\n",
       "      <td>3</td>\n",
       "      <td>female</td>\n",
       "      <td>29</td>\n",
       "    </tr>\n",
       "    <tr>\n",
       "      <th>3</th>\n",
       "      <td>4</td>\n",
       "      <td>male</td>\n",
       "      <td>16</td>\n",
       "    </tr>\n",
       "  </tbody>\n",
       "</table>\n",
       "</div>"
      ],
      "text/plain": [
       "   id  gender  age\n",
       "0   1  female   36\n",
       "1   2  female   14\n",
       "2   3  female   29\n",
       "3   4    male   16"
      ]
     },
     "execution_count": 161,
     "metadata": {},
     "output_type": "execute_result"
    }
   ],
   "source": [
    "# id, gender, age컬럼에 대해 의미있는 값으로 변환하고, df3으로 저장하세요.\n",
    "df3['id'] = np.array([1,2,3,4])\n",
    "# df.id = np.random.randint(100000,999999,4)\n",
    "\n",
    "df3['gender'] = np.random.randint(0,2,4)\n",
    "df3.gender.replace({0:'male', 1:'female'},inplace=True)\n",
    "# df.gender = np.random.choice(['male','female'],4)\n",
    "\n",
    "df3['age'] = np.random.randint(1,40,4)\n",
    "\n",
    "df3"
   ]
  },
  {
   "cell_type": "code",
   "execution_count": 211,
   "id": "f787eda2",
   "metadata": {},
   "outputs": [
    {
     "data": {
      "text/html": [
       "<div>\n",
       "<style scoped>\n",
       "    .dataframe tbody tr th:only-of-type {\n",
       "        vertical-align: middle;\n",
       "    }\n",
       "\n",
       "    .dataframe tbody tr th {\n",
       "        vertical-align: top;\n",
       "    }\n",
       "\n",
       "    .dataframe thead th {\n",
       "        text-align: right;\n",
       "    }\n",
       "</style>\n",
       "<table border=\"1\" class=\"dataframe\">\n",
       "  <thead>\n",
       "    <tr style=\"text-align: right;\">\n",
       "      <th></th>\n",
       "      <th>id</th>\n",
       "      <th>gender</th>\n",
       "      <th>age</th>\n",
       "    </tr>\n",
       "  </thead>\n",
       "  <tbody>\n",
       "    <tr>\n",
       "      <th>0</th>\n",
       "      <td>527065</td>\n",
       "      <td>female</td>\n",
       "      <td>29</td>\n",
       "    </tr>\n",
       "    <tr>\n",
       "      <th>1</th>\n",
       "      <td>153181</td>\n",
       "      <td>male</td>\n",
       "      <td>79</td>\n",
       "    </tr>\n",
       "    <tr>\n",
       "      <th>2</th>\n",
       "      <td>479293</td>\n",
       "      <td>female</td>\n",
       "      <td>40</td>\n",
       "    </tr>\n",
       "    <tr>\n",
       "      <th>3</th>\n",
       "      <td>632006</td>\n",
       "      <td>male</td>\n",
       "      <td>89</td>\n",
       "    </tr>\n",
       "  </tbody>\n",
       "</table>\n",
       "</div>"
      ],
      "text/plain": [
       "       id  gender  age\n",
       "0  527065  female   29\n",
       "1  153181    male   79\n",
       "2  479293  female   40\n",
       "3  632006    male   89"
      ]
     },
     "execution_count": 211,
     "metadata": {},
     "output_type": "execute_result"
    }
   ],
   "source": [
    "df.id = np.random.randint(100000,999999,4)\n",
    "df.gender = np.random.choice(['male','female'],4)\n",
    "df.age = np.random.randint(0,100,4)\n",
    "df[['id','gender','age']]"
   ]
  },
  {
   "cell_type": "code",
   "execution_count": 209,
   "id": "2d3b433c",
   "metadata": {},
   "outputs": [
    {
     "name": "stdout",
     "output_type": "stream",
     "text": [
      "1\n"
     ]
    },
    {
     "data": {
      "text/plain": [
       "1"
      ]
     },
     "execution_count": 209,
     "metadata": {},
     "output_type": "execute_result"
    }
   ],
   "source": [
    "# 끝자리 포함여부\n",
    "print(np.random.randint(0,2))\n",
    "random.randint(0,2)"
   ]
  },
  {
   "cell_type": "code",
   "execution_count": 216,
   "id": "121a9f7a",
   "metadata": {},
   "outputs": [],
   "source": [
    "#배열에서 정렬한 후, 50%에 해당하는 원소만 출력\n",
    "large_ar = np.random.randn(1000)\n",
    "large_ar.sort() #원본에 반영"
   ]
  },
  {
   "cell_type": "code",
   "execution_count": 218,
   "id": "aaf0adfc",
   "metadata": {},
   "outputs": [
    {
     "data": {
      "text/plain": [
       "-0.015276471214820871"
      ]
     },
     "execution_count": 218,
     "metadata": {},
     "output_type": "execute_result"
    }
   ],
   "source": [
    "large_ar[int(0.5*len(large_ar))] #정규분포는 mean=0이므로 중간값도 이와비슷해야.."
   ]
  },
  {
   "cell_type": "code",
   "execution_count": 228,
   "id": "2d4db444",
   "metadata": {},
   "outputs": [
    {
     "data": {
      "text/plain": [
       "array(['Bob', 'Joe', 'Will'], dtype='<U4')"
      ]
     },
     "execution_count": 228,
     "metadata": {},
     "output_type": "execute_result"
    }
   ],
   "source": [
    "#배열 집합 연산\n",
    "names = np.array(['Bob','Joe','Will','Joe','Joe'])\n",
    "np.unique(names)"
   ]
  },
  {
   "cell_type": "code",
   "execution_count": 229,
   "id": "4f3ed57f",
   "metadata": {},
   "outputs": [
    {
     "data": {
      "text/plain": [
       "['Bob', 'Joe', 'Will']"
      ]
     },
     "execution_count": 229,
     "metadata": {},
     "output_type": "execute_result"
    }
   ],
   "source": [
    "sorted(set(names)) #unique sort"
   ]
  },
  {
   "cell_type": "code",
   "execution_count": 231,
   "id": "d919d954",
   "metadata": {},
   "outputs": [
    {
     "data": {
      "text/plain": [
       "array([ True, False, False,  True,  True, False,  True])"
      ]
     },
     "execution_count": 231,
     "metadata": {},
     "output_type": "execute_result"
    }
   ],
   "source": [
    "#첫번째 배열의 원소가 두번째 배열의 원소를 포함하는지 알려주는 boolean반환\n",
    "values = np.array([6,0,0,3,2,5,6])\n",
    "np.in1d(values, [2,3,6]) #숫자 1"
   ]
  },
  {
   "cell_type": "code",
   "execution_count": 232,
   "id": "a681fee9",
   "metadata": {},
   "outputs": [],
   "source": [
    "#배열 데이터의 입출력 #확장자 npy\n",
    "ar = np.arange(10)\n",
    "np.save('some_ar',ar)"
   ]
  },
  {
   "cell_type": "code",
   "execution_count": 233,
   "id": "5e0c355b",
   "metadata": {},
   "outputs": [
    {
     "data": {
      "text/plain": [
       "array([0, 1, 2, 3, 4, 5, 6, 7, 8, 9])"
      ]
     },
     "execution_count": 233,
     "metadata": {},
     "output_type": "execute_result"
    }
   ],
   "source": [
    "np.load('some_ar.npy')"
   ]
  },
  {
   "cell_type": "code",
   "execution_count": 234,
   "id": "2ac9db8d",
   "metadata": {},
   "outputs": [],
   "source": [
    "#np.savez : 여러개의 배열을 압축된형식으로 저장\n",
    "np.savez('ar_archive.npz', a = ar, b=ar)"
   ]
  },
  {
   "cell_type": "code",
   "execution_count": 243,
   "id": "8c987741",
   "metadata": {},
   "outputs": [
    {
     "data": {
      "text/plain": [
       "array([0, 1, 2, 3, 4, 5, 6, 7, 8, 9])"
      ]
     },
     "execution_count": 243,
     "metadata": {},
     "output_type": "execute_result"
    }
   ],
   "source": [
    "arch = np.load('ar_archive.npz')\n",
    "arch['a']\n",
    "arch['b']"
   ]
  },
  {
   "cell_type": "code",
   "execution_count": 256,
   "id": "27cd526a",
   "metadata": {},
   "outputs": [
    {
     "name": "stdout",
     "output_type": "stream",
     "text": [
      "[1 2 3 4 5 6 7 8 9] \n",
      "\n"
     ]
    },
    {
     "data": {
      "text/plain": [
       "array([8, 7, 6, 5, 4, 3, 2, 1, 0], dtype=int64)"
      ]
     },
     "execution_count": 256,
     "metadata": {},
     "output_type": "execute_result"
    }
   ],
   "source": [
    "#argsort : array의 index 뽑기\n",
    "a = np.arange(1,10)\n",
    "print( a,'\\n')\n",
    "\n",
    "np.argsort(a)\n",
    "\n",
    "np.argsort(a)[::-1] #index 역순 출력\n",
    "# np.argsort(a, order=True) #order opt는 뭐지?"
   ]
  },
  {
   "cell_type": "markdown",
   "id": "dcc1811d",
   "metadata": {},
   "source": [
    "- np.arange(4)를 이용하여 아래와 같이 출력하세요. <br>\n",
    "```\n",
    "array([[0, 0, 0, 0, 0],\n",
    "       [1, 0, 0, 0, 0],\n",
    "       [0, 2, 0, 0, 0],\n",
    "       [0, 0, 3, 0, 0],\n",
    "       [0, 0, 0, 4, 0]])\n",
    "```"
   ]
  },
  {
   "cell_type": "code",
   "execution_count": 264,
   "id": "c01f721a",
   "metadata": {},
   "outputs": [],
   "source": [
    "ar1= np.arange(4)"
   ]
  },
  {
   "cell_type": "markdown",
   "id": "432fa2be",
   "metadata": {},
   "source": [
    "- 0 ~ 10 정수 (5,5)행렬의 역행렬을 구한 후, 두 행렬간의 행렬곱을 구하세요."
   ]
  },
  {
   "cell_type": "code",
   "execution_count": 283,
   "id": "952ff91c",
   "metadata": {},
   "outputs": [
    {
     "data": {
      "text/plain": [
       "array([[ 7,  0,  3,  0,  4],\n",
       "       [ 9,  7,  4,  6, 10],\n",
       "       [ 1, 10,  3,  6,  9],\n",
       "       [ 5,  6,  5,  9,  2],\n",
       "       [ 3,  8,  5,  0,  3]])"
      ]
     },
     "execution_count": 283,
     "metadata": {},
     "output_type": "execute_result"
    }
   ],
   "source": [
    "ar1 = np.random.randint(0,11,(5,5))\n",
    "ar2 = np.linalg.inv(ar1)\n",
    "np.dot(ar1,ar2)"
   ]
  },
  {
   "cell_type": "code",
   "execution_count": 322,
   "id": "2e69f661",
   "metadata": {},
   "outputs": [
    {
     "data": {
      "text/plain": [
       "5"
      ]
     },
     "execution_count": 322,
     "metadata": {},
     "output_type": "execute_result"
    }
   ],
   "source": [
    "for i in range(100)\n",
    "random.randint(0,10)\n",
    "ar1"
   ]
  },
  {
   "cell_type": "code",
   "execution_count": null,
   "id": "c1cc198e",
   "metadata": {},
   "outputs": [],
   "source": []
  },
  {
   "cell_type": "code",
   "execution_count": null,
   "id": "62e85daa",
   "metadata": {},
   "outputs": [],
   "source": []
  },
  {
   "cell_type": "code",
   "execution_count": null,
   "id": "71985088",
   "metadata": {},
   "outputs": [],
   "source": []
  },
  {
   "cell_type": "code",
   "execution_count": null,
   "id": "ff805985",
   "metadata": {},
   "outputs": [],
   "source": []
  },
  {
   "cell_type": "code",
   "execution_count": null,
   "id": "fdbad65b",
   "metadata": {},
   "outputs": [],
   "source": []
  },
  {
   "cell_type": "code",
   "execution_count": null,
   "id": "24c88355",
   "metadata": {},
   "outputs": [],
   "source": []
  }
 ],
 "metadata": {
  "kernelspec": {
   "display_name": "Python 3 (ipykernel)",
   "language": "python",
   "name": "python3"
  },
  "language_info": {
   "codemirror_mode": {
    "name": "ipython",
    "version": 3
   },
   "file_extension": ".py",
   "mimetype": "text/x-python",
   "name": "python",
   "nbconvert_exporter": "python",
   "pygments_lexer": "ipython3",
   "version": "3.8.13"
  },
  "toc": {
   "base_numbering": 1,
   "nav_menu": {},
   "number_sections": true,
   "sideBar": true,
   "skip_h1_title": false,
   "title_cell": "Table of Contents",
   "title_sidebar": "Contents",
   "toc_cell": false,
   "toc_position": {
    "height": "calc(100% - 180px)",
    "left": "10px",
    "top": "150px",
    "width": "191.594px"
   },
   "toc_section_display": true,
   "toc_window_display": true
  }
 },
 "nbformat": 4,
 "nbformat_minor": 5
}
