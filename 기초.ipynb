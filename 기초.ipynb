{
 "cells": [
  {
   "cell_type": "code",
   "execution_count": 2,
   "id": "3b069ecf",
   "metadata": {},
   "outputs": [],
   "source": [
    "import os\n",
    "import pandas as pd\n",
    "import numpy as np\n",
    "import re\n",
    "import time\n",
    "from datetime import datetime, date\n",
    "from tabulate import tabulate #DF예쁘게 출력하기\n",
    "import calendar\n",
    "import seaborn as sns"
   ]
  },
  {
   "cell_type": "markdown",
   "id": "e91035f0",
   "metadata": {},
   "source": [
    "# NumPy\n",
    "- NumPy는 “Numerical Python“의 약자. \n",
    "- 대규모 다차원 배열과 행렬 연산에 필요한 다양한 함수를 제공. 파이썬에서 선형대수 기반의 프로그램을 쉽게 만들 수 있도록 지원하는 대표적인 패키지\n",
    "<br>\n",
    "\n",
    "- 많은 머신러닝 알고리즘이 넘파이 기반으로 작성돼 있으며, 알고리즘의 입출력 데이터를 넘파이 배열 타입으로 사용함\n",
    "- 넘파이의 기본 데이터 타입은 ndarray. ndarray를 이용해 넘파이에서 다차원 배열을 쉽게 생성하고 다양한 연산 수행\n",
    "\n",
    "## NumPy 특징\n",
    "\n",
    "- 강력한 N 차원 배열 객체\n",
    "- 정교한 broadcasting 기능\n",
    "- C/C ++ 및 포트란 코드 통합 도구\n",
    "- 유용한 선형 대수학, 푸리에 변환 및 난수 기능\n",
    "- 푸리에 변환(Fourier transform, FT)은 시간이나 공간에 대한 함수를 시간 또는 공간 주파수 성분으로 분해하는 변환\n",
    "- 범용적 데이터 처리에 사용 가능한 다차원 컨테이너\n",
    "\n",
    "Numpy Documentation  \n",
    "\n",
    "https://numpy.org/doc/1.21/index.html\n"
   ]
  },
  {
   "cell_type": "code",
   "execution_count": 5,
   "id": "c8c00749",
   "metadata": {},
   "outputs": [
    {
     "name": "stdout",
     "output_type": "stream",
     "text": [
      "40 bytes\n"
     ]
    }
   ],
   "source": [
    "z= np.arange(10)\n",
    "print(f'{z.size*z.itemsize} bytes') #bytes 확인 #z.size(갯수), z.itemsize(?)"
   ]
  },
  {
   "cell_type": "code",
   "execution_count": 8,
   "id": "65356b68",
   "metadata": {},
   "outputs": [],
   "source": [
    "#numpy는 메모리를 효율적으로 관리 > 작동시간이 빠름\n",
    "#numpy는 내부적으로 데이터를 (다른 내장 파이썬 객체와 구분된) 연속된 메모리 블록에 저장\n",
    "my_arr = np.arange(1000000)\n",
    "my_list = list(range(1000000))"
   ]
  },
  {
   "cell_type": "code",
   "execution_count": 10,
   "id": "de86e1c1",
   "metadata": {},
   "outputs": [
    {
     "name": "stdout",
     "output_type": "stream",
     "text": [
      "CPU times: total: 15.6 ms\n",
      "Wall time: 16 ms\n"
     ]
    }
   ],
   "source": [
    "#10번돌리는데 걸리는 시간 체크\n",
    "%time for _ in range(10): my_array2 = my_arr*2\n",
    "#'_'는 값을 무시하고 싶은 경우 사용(여기서는 인덱스 무시)"
   ]
  },
  {
   "cell_type": "code",
   "execution_count": 12,
   "id": "8624e336",
   "metadata": {},
   "outputs": [
    {
     "name": "stdout",
     "output_type": "stream",
     "text": [
      "CPU times: total: 625 ms\n",
      "Wall time: 602 ms\n"
     ]
    }
   ],
   "source": [
    "%time for _ in range(10): my_list2 = [x*2 for x in my_list]"
   ]
  },
  {
   "cell_type": "markdown",
   "id": "fd1e6c67",
   "metadata": {},
   "source": [
    "- 배열 기본정보 함수"
   ]
  },
  {
   "cell_type": "code",
   "execution_count": 17,
   "id": "74558f78",
   "metadata": {},
   "outputs": [
    {
     "name": "stdout",
     "output_type": "stream",
     "text": [
      "(2, 3)\n",
      "float64\n",
      "2\n"
     ]
    }
   ],
   "source": [
    "print(data.shape) #크기\n",
    "print(data.dtype)\n",
    "print(data.ndim) #차원"
   ]
  },
  {
   "cell_type": "markdown",
   "id": "fd795799",
   "metadata": {},
   "source": [
    "## 배열 연산"
   ]
  },
  {
   "cell_type": "code",
   "execution_count": 14,
   "id": "e8826275",
   "metadata": {},
   "outputs": [
    {
     "name": "stdout",
     "output_type": "stream",
     "text": [
      "[[-1.62304908  1.878251    0.57880681]\n",
      " [ 1.55978508  0.05432879  1.71044592]] \n",
      "\n",
      "[[-16.23049076  18.78250999   5.78806812]\n",
      " [ 15.59785085   0.54328785  17.10445921]] \n",
      "\n",
      "[[-3.24609815  3.756502    1.15761362]\n",
      " [ 3.11957017  0.10865757  3.42089184]]\n"
     ]
    }
   ],
   "source": [
    "#np.random.randn : 정규분포를 이루는 값을 (m,n)배열로 추출\n",
    "data = np.random.randn(2,3)\n",
    "print(data, '\\n')\n",
    "print(data*10, '\\n')\n",
    "print(data + data)"
   ]
  },
  {
   "cell_type": "markdown",
   "id": "8b0cbed4",
   "metadata": {},
   "source": [
    "## 배열 차원 변경\n",
    "<img src='numpy차원.jpg' STYLE='width:500px;'>"
   ]
  },
  {
   "cell_type": "code",
   "execution_count": 22,
   "id": "43f1b932",
   "metadata": {},
   "outputs": [
    {
     "name": "stdout",
     "output_type": "stream",
     "text": [
      "[[1 2 3 4]\n",
      " [5 6 7 8]]\n",
      "2\n",
      "(2, 4)\n"
     ]
    }
   ],
   "source": [
    "#다차원 배열 만들기\n",
    "data2 = [[1,2,3,4],[5,6,7,8]] # 현재는 list\n",
    "#배열로 전환\n",
    "arr2 = np.array(data2)\n",
    "\n",
    "print(arr2)\n",
    "print(arr2.ndim)\n",
    "print(arr2.shape)"
   ]
  },
  {
   "cell_type": "code",
   "execution_count": 26,
   "id": "07caa3a2",
   "metadata": {},
   "outputs": [
    {
     "name": "stdout",
     "output_type": "stream",
     "text": [
      "[1 2 3] 1 (3,) <class 'numpy.ndarray'>\n"
     ]
    }
   ],
   "source": [
    "#1차원 배열로 3개의 데이터\n",
    "arr1 = np.array([1,2,3])\n",
    "print(arr1, arr1.ndim, arr1.shape, type(arr1))"
   ]
  },
  {
   "cell_type": "code",
   "execution_count": 44,
   "id": "d8b200b3",
   "metadata": {},
   "outputs": [
    {
     "data": {
      "text/plain": [
       "(array([[ 0,  1,  2,  3,  4,  5],\n",
       "        [ 6,  7,  8,  9, 10, 11],\n",
       "        [12, 13, 14, 15, 16, 17],\n",
       "        [18, 19, 20, 21, 22, 23],\n",
       "        [24, 25, 26, 27, 28, 29]]),\n",
       " array([[[ 0,  1,  2,  3,  4],\n",
       "         [ 5,  6,  7,  8,  9],\n",
       "         [10, 11, 12, 13, 14]],\n",
       " \n",
       "        [[15, 16, 17, 18, 19],\n",
       "         [20, 21, 22, 23, 24],\n",
       "         [25, 26, 27, 28, 29]]]))"
      ]
     },
     "execution_count": 44,
     "metadata": {},
     "output_type": "execute_result"
    }
   ],
   "source": [
    "#배열 차원변경 - reshape\n",
    "ar= np.arange(30)\n",
    "ar1 = ar\n",
    "ar2 = ar.reshape(5,6)\n",
    "ar3 = ar.reshape(2,3,5)\n",
    "ar2, ar3"
   ]
  },
  {
   "cell_type": "code",
   "execution_count": 63,
   "id": "7e245453",
   "metadata": {},
   "outputs": [
    {
     "name": "stdout",
     "output_type": "stream",
     "text": [
      "[ 0  1  2  3  4  5  6  7  8  9 10 11 12 13 14 15 16 17 18 19 20 21 22 23\n",
      " 24 25 26 27 28 29] \n",
      "\n",
      "[[ 0  1  2  3  4  5  6  7  8  9 10 11 12 13 14]\n",
      " [15 16 17 18 19 20 21 22 23 24 25 26 27 28 29]] 2 (2, 15) \n",
      "\n",
      "[[[ 0  1  2  3  4]\n",
      "  [ 5  6  7  8  9]]\n",
      "\n",
      " [[10 11 12 13 14]\n",
      "  [15 16 17 18 19]]\n",
      "\n",
      " [[20 21 22 23 24]\n",
      "  [25 26 27 28 29]]] 3 (3, 2, 5)\n"
     ]
    }
   ],
   "source": [
    "#reshape(-1,-1)이용한 차원 변경 (?)\n",
    "# 변경된 배열의 '-1' 위치의 차원은 \"원래 배열의 길이와 남은 차원으로 부터 추정\"\n",
    "print(ar1,'\\n')\n",
    "ar2 = ar1.reshape(-1,15)\n",
    "ar3 = ar1.reshape(-1,2,5)\n",
    "print(ar2, ar2.ndim, ar2.shape, '\\n')\n",
    "print(ar3, ar3.ndim, ar3.shape)"
   ]
  },
  {
   "cell_type": "markdown",
   "id": "4cf23089",
   "metadata": {},
   "source": [
    "## 전치\n",
    "- 전치 : np.transpose() / np.swapaxes"
   ]
  },
  {
   "cell_type": "markdown",
   "id": "cab351c0",
   "metadata": {},
   "source": [
    "- 2차원 전치"
   ]
  },
  {
   "cell_type": "code",
   "execution_count": 152,
   "id": "39154c8c",
   "metadata": {
    "scrolled": true
   },
   "outputs": [
    {
     "name": "stdout",
     "output_type": "stream",
     "text": [
      "[[6 5 2 1 1]\n",
      " [4 9 6 2 7]\n",
      " [3 9 1 6 8]\n",
      " [9 6 5 6 8]\n",
      " [7 4 3 1 9]] \n",
      "\n",
      "[[6 5 2 1 1]\n",
      " [4 9 6 2 7]\n",
      " [3 9 1 6 8]\n",
      " [9 6 5 6 8]\n",
      " [7 4 3 1 9]] \n",
      "\n",
      "[[6 5 2 1 1]\n",
      " [4 9 6 2 7]\n",
      " [3 9 1 6 8]\n",
      " [9 6 5 6 8]\n",
      " [7 4 3 1 9]] \n",
      "\n"
     ]
    }
   ],
   "source": [
    "#전치 - transpose / arr.T\n",
    "print(arr.T,'\\n')\n",
    "print(arr.transpose(), '\\n')\n",
    "print(np.transpose(arr), '\\n')"
   ]
  },
  {
   "cell_type": "code",
   "execution_count": 153,
   "id": "c0dfc164",
   "metadata": {},
   "outputs": [
    {
     "name": "stdout",
     "output_type": "stream",
     "text": [
      "[[0 1 2]\n",
      " [3 4 5]] (2, 3) \n",
      "\n",
      "[[0 3]\n",
      " [1 4]\n",
      " [2 5]] (3, 2) \n",
      "\n"
     ]
    }
   ],
   "source": [
    "#전치 - swapaxes\n",
    "a = np.arange(6).reshape(2,3)\n",
    "print(a,a.shape, '\\n')\n",
    "y= np.swapaxes(a, 0,1)\n",
    "print(y,y.shape, '\\n')"
   ]
  },
  {
   "cell_type": "markdown",
   "id": "fc298a1a",
   "metadata": {},
   "source": [
    "- 3차원 전치"
   ]
  },
  {
   "cell_type": "code",
   "execution_count": 167,
   "id": "3aa45c53",
   "metadata": {},
   "outputs": [
    {
     "name": "stdout",
     "output_type": "stream",
     "text": [
      "[[[0 1 2]\n",
      "  [3 4 5]]] (1, 2, 3)\n",
      "[[[0 1 2]]\n",
      "\n",
      " [[3 4 5]]] (2, 1, 3)\n"
     ]
    }
   ],
   "source": [
    "#3차원 전치 (0,1,2) : transpose()\n",
    "a = np.arange(6).reshape(1,2,3)\n",
    "print(a, a.shape)\n",
    "\n",
    "#3차원과 2차원을 바꿔라. (2,1,3)\n",
    "y = np.transpose(a,(1,0,2)) #차원의 자리 인덱스로 새로운 순서 표시\n",
    "print(y, y.shape)"
   ]
  },
  {
   "cell_type": "code",
   "execution_count": 168,
   "id": "864bd38f",
   "metadata": {},
   "outputs": [
    {
     "name": "stdout",
     "output_type": "stream",
     "text": [
      "[[[0 1 2]]\n",
      "\n",
      " [[3 4 5]]] (2, 1, 3)\n"
     ]
    }
   ],
   "source": [
    "#3차원 전치 : swapaxes\n",
    "z = np.swapaxes(a,0,1)\n",
    "print(z, z.shape)"
   ]
  },
  {
   "cell_type": "code",
   "execution_count": 141,
   "id": "66b92df2",
   "metadata": {},
   "outputs": [
    {
     "data": {
      "text/plain": [
       "array([[191, 175, 105,  93, 193],\n",
       "       [175, 239, 115, 117, 224],\n",
       "       [105, 115,  75,  53, 119],\n",
       "       [ 93, 117,  53,  78, 120],\n",
       "       [193, 224, 119, 120, 259]])"
      ]
     },
     "execution_count": 141,
     "metadata": {},
     "output_type": "execute_result"
    }
   ],
   "source": [
    "#기존 * 전치\n",
    "np.dot(arr, arr.T) # 행렬 곱 # (mxn)*(nxp) 으로 닿는 차원이 같아야함"
   ]
  },
  {
   "cell_type": "code",
   "execution_count": 147,
   "id": "720c1efc",
   "metadata": {},
   "outputs": [
    {
     "data": {
      "text/plain": [
       "array([[191, 175, 105,  93, 193],\n",
       "       [175, 239, 115, 117, 224],\n",
       "       [105, 115,  75,  53, 119],\n",
       "       [ 93, 117,  53,  78, 120],\n",
       "       [193, 224, 119, 120, 259]])"
      ]
     },
     "execution_count": 147,
     "metadata": {},
     "output_type": "execute_result"
    }
   ],
   "source": [
    "np.matmul(arr, arr.T)"
   ]
  },
  {
   "cell_type": "markdown",
   "id": "b33148f6",
   "metadata": {},
   "source": [
    "## 배열 초기화\n",
    "- Numpy는 원하는 shape로 배열을 설정하고, 각 요소를 특정 값으로 초기화하는 zeros, ones, full, eye함수 제공.\n",
    "- 파라미터로 입력한 배열과 같은 shape의 배열을 만드는 zeros_like, ones_like, full_like 함수도 제공"
   ]
  },
  {
   "cell_type": "code",
   "execution_count": 29,
   "id": "6bb2e5fe",
   "metadata": {},
   "outputs": [
    {
     "name": "stdout",
     "output_type": "stream",
     "text": [
      "[0. 0. 0. 0. 0. 0. 0. 0. 0. 0.] \n",
      "\n",
      "[[0. 0. 0. 0. 0. 0.]\n",
      " [0. 0. 0. 0. 0. 0.]\n",
      " [0. 0. 0. 0. 0. 0.]] \n",
      "\n",
      "[[[0. 0. 0. 0.]\n",
      "  [0. 0. 0. 0.]\n",
      "  [0. 0. 0. 0.]]\n",
      "\n",
      " [[0. 0. 0. 0.]\n",
      "  [0. 0. 0. 0.]\n",
      "  [0. 0. 0. 0.]]]\n"
     ]
    }
   ],
   "source": [
    "print(np.zeros(10),'\\n')\n",
    "print(np.zeros((3,6)),'\\n')\n",
    "print(np.zeros((2,3,4))) #차원, 행, 열"
   ]
  },
  {
   "cell_type": "code",
   "execution_count": 30,
   "id": "25a52f93",
   "metadata": {},
   "outputs": [
    {
     "data": {
      "text/plain": [
       "array([[[1., 1., 1., 1.],\n",
       "        [1., 1., 1., 1.],\n",
       "        [1., 1., 1., 1.]],\n",
       "\n",
       "       [[1., 1., 1., 1.],\n",
       "        [1., 1., 1., 1.],\n",
       "        [1., 1., 1., 1.]]])"
      ]
     },
     "execution_count": 30,
     "metadata": {},
     "output_type": "execute_result"
    }
   ],
   "source": [
    "np.ones((2,3,4))"
   ]
  },
  {
   "cell_type": "code",
   "execution_count": 39,
   "id": "4d808e6c",
   "metadata": {},
   "outputs": [
    {
     "data": {
      "text/plain": [
       "(array([[0, 0, 0, 0, 0],\n",
       "        [0, 0, 0, 0, 0]]),\n",
       " array([[1, 1, 1, 1, 1],\n",
       "        [1, 1, 1, 1, 1]]),\n",
       " array([[5, 5, 5, 5, 5],\n",
       "        [5, 5, 5, 5, 5]]))"
      ]
     },
     "execution_count": 39,
     "metadata": {},
     "output_type": "execute_result"
    }
   ],
   "source": [
    "a= np.arange(10).reshape(2,5)\n",
    "z= np.zeros_like(a) #a의 shape를 따라, zero행렬 생성\n",
    "o= np.ones_like(a) #a의 shape를 따라, one행렬 생성\n",
    "f= np.full_like(a, 5) ##a의 shape를 따라, 5로 채운 행렬 생성\n",
    "z, o, f"
   ]
  },
  {
   "cell_type": "markdown",
   "id": "1cacec73",
   "metadata": {},
   "source": [
    "- np.zeros((8,8))을 이용하여 아래와 같이 출력하세요 <br>\n",
    "```\n",
    "array([[0, 1, 0, 1, 0, 1, 0, 1],\n",
    "       [1, 0, 1, 0, 1, 0, 1, 0],\n",
    "       [0, 1, 0, 1, 0, 1, 0, 1],\n",
    "       [1, 0, 1, 0, 1, 0, 1, 0],\n",
    "       [0, 1, 0, 1, 0, 1, 0, 1],\n",
    "       [1, 0, 1, 0, 1, 0, 1, 0],\n",
    "       [0, 1, 0, 1, 0, 1, 0, 1],\n",
    "       [1, 0, 1, 0, 1, 0, 1, 0]])\n",
    "```"
   ]
  },
  {
   "cell_type": "code",
   "execution_count": 6,
   "id": "d01ff127",
   "metadata": {},
   "outputs": [
    {
     "data": {
      "text/plain": [
       "array([[0., 1., 0., 1., 0., 1., 0., 1.],\n",
       "       [1., 0., 1., 0., 1., 0., 1., 0.],\n",
       "       [0., 1., 0., 1., 0., 1., 0., 1.],\n",
       "       [1., 0., 1., 0., 1., 0., 1., 0.],\n",
       "       [0., 1., 0., 1., 0., 1., 0., 1.],\n",
       "       [1., 0., 1., 0., 1., 0., 1., 0.],\n",
       "       [0., 1., 0., 1., 0., 1., 0., 1.],\n",
       "       [1., 0., 1., 0., 1., 0., 1., 0.]])"
      ]
     },
     "execution_count": 6,
     "metadata": {},
     "output_type": "execute_result"
    }
   ],
   "source": [
    "#방법1\n",
    "a=np.zeros((8,8))\n",
    "a[1::2,0::2] = 1\n",
    "a[0::2,1::2] = 1\n",
    "a"
   ]
  },
  {
   "cell_type": "code",
   "execution_count": 10,
   "id": "864b57dd",
   "metadata": {},
   "outputs": [
    {
     "data": {
      "text/plain": [
       "array([[0, 1, 0, 1, 0, 1, 0, 1],\n",
       "       [1, 0, 1, 0, 1, 0, 1, 0],\n",
       "       [0, 1, 0, 1, 0, 1, 0, 1],\n",
       "       [1, 0, 1, 0, 1, 0, 1, 0],\n",
       "       [0, 1, 0, 1, 0, 1, 0, 1],\n",
       "       [1, 0, 1, 0, 1, 0, 1, 0],\n",
       "       [0, 1, 0, 1, 0, 1, 0, 1],\n",
       "       [1, 0, 1, 0, 1, 0, 1, 0]])"
      ]
     },
     "execution_count": 10,
     "metadata": {},
     "output_type": "execute_result"
    }
   ],
   "source": [
    "#방법2 ) np.tile(반복할 arr, (m,n))\n",
    "z = np.tile(np.array([[0,1],[1,0]]),(4,4))\n",
    "z= np.tile(np.array([[0,1,0,1],[1,0,1,0]]),(4,2))\n",
    "z"
   ]
  },
  {
   "cell_type": "markdown",
   "id": "5d6ac94f",
   "metadata": {},
   "source": [
    "# 행렬"
   ]
  },
  {
   "cell_type": "markdown",
   "id": "4aeddb78",
   "metadata": {},
   "source": [
    "- 행렬의 종류\n",
    "\n",
    "https://math-development-geometry.tistory.com/52\n",
    "\n",
    "- 정방행렬 : 행과 열의 수가 같은 행렬 (m=n)\n",
    "- 대각행렬 : 주대각선 원소를 제외한 모든 원소들이 0인 정방행렬 (m=n), 항등행렬과 다르게 주대각선 원소에 1이외의 수가 가능\n",
    "- 항등행렬은 행렬 곱셈 연산에 항등원으로 작용하는 행렬 (=단위행렬)\n",
    "- 삼각행렬 : 주대각선 원소를 기준으로 위 또는 아래에 있는 성분이 모두 0인 정방행렬, 하삼각행렬(위 삼각형이 모두 0), 상삼각행렬(아래 삼각형이 모두 0)\n",
    "- 영행렬은 모든 원소가 0인 행렬로 곱셈 연산에서 영원으로 작용하는 행렬\n",
    "- 전치행렬은 주대각선 원소를 기준으로 행과 열을 바꿔주는 행렬, 주대각원소는 변하지 않음\n",
    "- 직교행렬은 행렬 A의 역행렬이 A의 전치행렬이고 A의 전치행렬과 A 행렬을 곱하였을때 항등행렬이 나오는 행렬\n"
   ]
  },
  {
   "cell_type": "code",
   "execution_count": 64,
   "id": "0efc5476",
   "metadata": {},
   "outputs": [
    {
     "data": {
      "text/plain": [
       "array([[7, 7],\n",
       "       [7, 7]])"
      ]
     },
     "execution_count": 64,
     "metadata": {},
     "output_type": "execute_result"
    }
   ],
   "source": [
    "#정방행렬\n",
    "a = np.full((2,2),7)\n",
    "a"
   ]
  },
  {
   "cell_type": "code",
   "execution_count": 68,
   "id": "a4ce6daf",
   "metadata": {},
   "outputs": [
    {
     "data": {
      "text/plain": [
       "array([[1., 0., 0.],\n",
       "       [0., 1., 0.],\n",
       "       [0., 0., 1.]])"
      ]
     },
     "execution_count": 68,
     "metadata": {},
     "output_type": "execute_result"
    }
   ],
   "source": [
    "#항등행렬, 단위행렬\n",
    "arr= np.eye(3)\n",
    "# arr=np.full((3,3),1) #이것과 달라요~\n",
    "arr"
   ]
  },
  {
   "cell_type": "code",
   "execution_count": 73,
   "id": "f032a9db",
   "metadata": {},
   "outputs": [
    {
     "data": {
      "text/plain": [
       "(array([ 0. ,  2.5,  5. ,  7.5, 10. ]), 2.5)"
      ]
     },
     "execution_count": 73,
     "metadata": {},
     "output_type": "execute_result"
    }
   ],
   "source": [
    "#0 ~ 10을 균등하게 나누기\n",
    "np.linspace(0,10) #default = 50개\n",
    "np.linspace(0,10, 5)\n",
    "np.linspace(0,10, 5, retstep=True) #retstep 구간 간격 값"
   ]
  },
  {
   "cell_type": "code",
   "execution_count": 79,
   "id": "4e43c095",
   "metadata": {},
   "outputs": [
    {
     "data": {
      "text/plain": [
       "[<matplotlib.lines.Line2D at 0x2a73fc779a0>]"
      ]
     },
     "execution_count": 79,
     "metadata": {},
     "output_type": "execute_result"
    },
    {
     "data": {
      "image/png": "[encoded data removed]",
      "text/plain": [
       "<Figure size 432x288 with 1 Axes>"
      ]
     },
     "metadata": {
      "needs_background": "light"
     },
     "output_type": "display_data"
    }
   ],
   "source": [
    "import matplotlib.pyplot as plt\n",
    "x= np.linspace(0,1,10)\n",
    "y = np.linspace(0,50,10)\n",
    "plt.plot(x,y, 'x') #그래프에 표기할 문자"
   ]
  },
  {
   "cell_type": "code",
   "execution_count": 80,
   "id": "c6aff9ca",
   "metadata": {},
   "outputs": [
    {
     "name": "stdout",
     "output_type": "stream",
     "text": [
      "0.0999999993810619\n",
      "1.0\n"
     ]
    },
    {
     "data": {
      "text/plain": [
       "array([ 1.25892541,  1.40400425,  1.565802  ,  1.74624535,  1.94748304,\n",
       "        2.1719114 ,  2.42220294,  2.70133812,  3.0126409 ,  3.35981829,\n",
       "        3.74700446,  4.17881006,  4.66037703,  5.19743987,  5.79639395,\n",
       "        6.46437163,  7.2093272 ,  8.04013161,  8.9666781 , 10.        ])"
      ]
     },
     "execution_count": 80,
     "metadata": {},
     "output_type": "execute_result"
    }
   ],
   "source": [
    "#미리보는 로그, 지수 함수\n",
    "print(np.log10(1.25892541))\n",
    "print(np.log10(10))\n",
    "np.logspace(0.1,1,20)"
   ]
  },
  {
   "cell_type": "code",
   "execution_count": 81,
   "id": "592545ea",
   "metadata": {},
   "outputs": [
    {
     "data": {
      "text/plain": [
       "[<matplotlib.lines.Line2D at 0x2a740e8f400>]"
      ]
     },
     "execution_count": 81,
     "metadata": {},
     "output_type": "execute_result"
    },
    {
     "data": {
      "image/png": "[encoded data removed]",
      "text/plain": [
       "<Figure size 432x288 with 1 Axes>"
      ]
     },
     "metadata": {
      "needs_background": "light"
     },
     "output_type": "display_data"
    }
   ],
   "source": [
    "x = np.linspace(0,20,20)\n",
    "y = np.logspace(0.1,1,20)\n",
    "plt.plot(x,y,'*')"
   ]
  },
  {
   "cell_type": "markdown",
   "id": "47b34214",
   "metadata": {},
   "source": [
    "- 역행렬 <br>\n",
    ": 어떤 행렬 A와 곱했을 때, 곱셈에 대한 항등원인 항등행렬 E가 나오는 행렬 <br>\n",
    ": 역행렬을 갖는 행렬의 조건 (?)"
   ]
  },
  {
   "cell_type": "code",
   "execution_count": 158,
   "id": "b38a028d",
   "metadata": {},
   "outputs": [
    {
     "name": "stdout",
     "output_type": "stream",
     "text": [
      "[[1 2 1]\n",
      " [2 2 3]\n",
      " [1 3 1]] \n",
      "\n",
      "[[ 7. -1. -4.]\n",
      " [-1.  0.  1.]\n",
      " [-4.  1.  2.]] \n",
      "\n"
     ]
    },
    {
     "data": {
      "text/plain": [
       "array([[1., 0., 0.],\n",
       "       [0., 1., 0.],\n",
       "       [0., 0., 1.]])"
      ]
     },
     "execution_count": 158,
     "metadata": {},
     "output_type": "execute_result"
    }
   ],
   "source": [
    "np.random.seed(0)\n",
    "mt1 = np.random.randint(1,4, size=(3,3))\n",
    "print(mt1, '\\n')\n",
    "mt2 = np.linalg.inv(mt1) #역행렬 구하기\n",
    "print(mt2, '\\n')\n",
    "\n",
    "np.dot(mt1, mt2) #항등행렬"
   ]
  },
  {
   "cell_type": "markdown",
   "id": "e81d4ee6",
   "metadata": {},
   "source": [
    "# ndarray 데이터 형태\n",
    "\n",
    "<img src= '데이터형태.jpg' STYLE='width:500px;'>"
   ]
  },
  {
   "cell_type": "markdown",
   "id": "a2d9dd20",
   "metadata": {},
   "source": [
    "## 데이터 형태 지정 및 변경"
   ]
  },
  {
   "cell_type": "code",
   "execution_count": 90,
   "id": "046ef721",
   "metadata": {},
   "outputs": [
    {
     "name": "stdout",
     "output_type": "stream",
     "text": [
      "int32\n",
      "float64\n"
     ]
    }
   ],
   "source": [
    "#astype('type')\n",
    "arr = np.array([1,2,3,4,5],)\n",
    "print(arr.dtype)\n",
    "\n",
    "float_arr = arr.astype('float')\n",
    "print(float_arr.dtype)"
   ]
  },
  {
   "cell_type": "code",
   "execution_count": 95,
   "id": "ac714156",
   "metadata": {},
   "outputs": [
    {
     "name": "stdout",
     "output_type": "stream",
     "text": [
      "[b'1' b'2' b'3' b'4' b'5'] |S1\n"
     ]
    }
   ],
   "source": [
    "numeric_string = np.array([1,2,3,4,5], dtype='S') #만들면서 type지정 가능\n",
    "print(numeric_string, numeric_string.dtype) #'S'는 바이트 문자열 > (b=byte)"
   ]
  },
  {
   "cell_type": "code",
   "execution_count": 98,
   "id": "53b6adb5",
   "metadata": {},
   "outputs": [
    {
     "name": "stdout",
     "output_type": "stream",
     "text": [
      "[1 2 3 4 5] int32\n"
     ]
    }
   ],
   "source": [
    "num = numeric_string.astype('int')\n",
    "print(num, num.dtype)"
   ]
  },
  {
   "cell_type": "markdown",
   "id": "263f9ad6",
   "metadata": {},
   "source": [
    "# 뷰\n",
    "뷰(view) : 넘파이의 ndarray(이하 배열)을 슬라이싱할 때 파이썬의 리스트(list)와 다르게 원본의 참조가 생성\n",
    "\n",
    "numpy는 대용량 데이터 처리를 염두에 두고 대용량 데이터의 슬라이싱이 빈번하게 일어나는 복잡한 코드를 실행시키는데 있어서 복사가 남발되면 메모리 문제를 일으킬 소지가 많기 때문에 이렇게 설계\n",
    "\n",
    "- 복사가 아니고 뷰(참조의 개념)이기 때문에 원본이 바뀌면 이 참조본도 따라서 바뀜\n",
    "- 리스트의 슬라이싱에서는 복사본이 생성되는 것과는 다른 동작이기 때문에 주의\n",
    "- 슬라이싱의 복사본을 생성하고 싶다면 copy() 속성을 이용\n",
    "\n",
    "http://taewan.kim/post/numpy_cheat_sheet/\n"
   ]
  },
  {
   "cell_type": "code",
   "execution_count": 102,
   "id": "6d90e009",
   "metadata": {},
   "outputs": [
    {
     "name": "stdout",
     "output_type": "stream",
     "text": [
      "[1, 2, 3, 4, 5, 6, 7, 8, 9, 10] \n",
      "\n",
      "[1, 2, 3, 4, 5] \n",
      "\n",
      "[1, 0, 3, 4, 5] \n",
      "\n",
      "[1, 2, 3, 4, 5, 6, 7, 8, 9, 10]\n"
     ]
    }
   ],
   "source": [
    "#copy\n",
    "li = list(np.arange(1,11))\n",
    "print(li, '\\n')\n",
    "li_slice = li[:5].copy()\n",
    "print(li_slice, '\\n')\n",
    "li_slice[1] = 0\n",
    "print(li_slice,'\\n')\n",
    "print(li)"
   ]
  },
  {
   "cell_type": "code",
   "execution_count": 106,
   "id": "63f398dc",
   "metadata": {},
   "outputs": [
    {
     "name": "stdout",
     "output_type": "stream",
     "text": [
      "[0 1 2 3 4 5 6 7 8 9] \n",
      "\n",
      "[5 6 7] \n",
      "\n",
      "[12 12 12] \n",
      "\n",
      "[ 0  1  2  3  4 12 12 12  8  9]\n"
     ]
    }
   ],
   "source": [
    "#view - 원본을 변경\n",
    "arr = np.arange(10)\n",
    "print(arr,'\\n')\n",
    "\n",
    "li_slice = arr[5:8] #view\n",
    "print(li_slice,'\\n')\n",
    "li_slice[:] = 12\n",
    "print(li_slice,'\\n')\n",
    "\n",
    "print(arr)"
   ]
  },
  {
   "cell_type": "markdown",
   "id": "7cf366f9",
   "metadata": {},
   "source": [
    "# 인덱싱\n",
    "- 이전에 배운 pandas와 같음"
   ]
  },
  {
   "cell_type": "markdown",
   "id": "6a7abf56",
   "metadata": {},
   "source": [
    "# 변환"
   ]
  },
  {
   "cell_type": "code",
   "execution_count": 119,
   "id": "6d291ef6",
   "metadata": {},
   "outputs": [
    {
     "name": "stdout",
     "output_type": "stream",
     "text": [
      "[[1, 2, 3], [4, 5, 6], [7, 8, 9]] <class 'list'>\n"
     ]
    }
   ],
   "source": [
    "# arr > list\n",
    "print(arr2d.tolist(), type(arr2d.tolist()))"
   ]
  },
  {
   "cell_type": "code",
   "execution_count": 122,
   "id": "ecb93516",
   "metadata": {},
   "outputs": [
    {
     "name": "stdout",
     "output_type": "stream",
     "text": [
      "[6 7 8 9] \n",
      "\n",
      "[False False False False False  True  True  True  True]\n"
     ]
    }
   ],
   "source": [
    "#boolean indexing\n",
    "arr1d = np.arange(1, 10)\n",
    "arr1 = arr1d[arr1d > 5]\n",
    "print(arr1, '\\n')\n",
    "\n",
    "print(arr1d > 5) #bool값을 반환"
   ]
  },
  {
   "cell_type": "code",
   "execution_count": 124,
   "id": "53aea03c",
   "metadata": {},
   "outputs": [
    {
     "data": {
      "text/plain": [
       "array([6, 7, 8, 9])"
      ]
     },
     "execution_count": 124,
     "metadata": {},
     "output_type": "execute_result"
    }
   ],
   "source": [
    "arr1d[5:]"
   ]
  },
  {
   "cell_type": "code",
   "execution_count": 129,
   "id": "bb6ea921",
   "metadata": {},
   "outputs": [
    {
     "name": "stdout",
     "output_type": "stream",
     "text": [
      "3,6,9,12,15,18,21,24,27,30,33,36,39,42,45,48,51,54,57,60,63,66,69,72,75,78,81,84,87,90,93,96,99,"
     ]
    }
   ],
   "source": [
    "#Q1. 1~100까지 정수에서 3의 배수인 것만을 출력(for문과 배열, 두가지방식)\n",
    "#for\n",
    "for i in range(1,101):\n",
    "    if i%3 ==0:\n",
    "        print(i,end=',')\n",
    "\n",
    "#배열\n",
    "arr = np.arange(1,101)\n",
    "arr[arr%3 ==0]"
   ]
  },
  {
   "cell_type": "markdown",
   "id": "285cea7b",
   "metadata": {},
   "source": [
    "# numpy 제공 함수"
   ]
  },
  {
   "cell_type": "markdown",
   "id": "e807ed06",
   "metadata": {},
   "source": [
    "- 사칙연산"
   ]
  },
  {
   "cell_type": "code",
   "execution_count": 12,
   "id": "5ba5b9ca",
   "metadata": {},
   "outputs": [
    {
     "name": "stdout",
     "output_type": "stream",
     "text": [
      "[[1 2 3]\n",
      " [4 5 6]\n",
      " [7 8 9]] \n",
      "\n",
      "[ 1  3  6 10 15 21 28 36 45] \n",
      "\n",
      "[[ 1  2  3]\n",
      " [ 5  7  9]\n",
      " [12 15 18]] \n",
      "\n",
      "[[ 1  3  6]\n",
      " [ 4  9 15]\n",
      " [ 7 15 24]]\n"
     ]
    }
   ],
   "source": [
    "arr = np.arange(1,10).reshape(3,3)\n",
    "print(arr, '\\n')\n",
    "print(arr.cumsum(), '\\n') #누적 덧셈\n",
    "print(arr.cumsum(axis=0),'\\n') #행 방향으로 더하기\n",
    "print(arr.cumsum(axis=1)) #열 방향으로 더하기"
   ]
  },
  {
   "cell_type": "code",
   "execution_count": 177,
   "id": "77a167a6",
   "metadata": {},
   "outputs": [
    {
     "name": "stdout",
     "output_type": "stream",
     "text": [
      "[  6 120 504]\n"
     ]
    }
   ],
   "source": [
    "print(arr.prod(axis=1)) #열방향 곱하기"
   ]
  },
  {
   "cell_type": "code",
   "execution_count": 178,
   "id": "84de766a",
   "metadata": {},
   "outputs": [
    {
     "name": "stdout",
     "output_type": "stream",
     "text": [
      "[[  1   2   6]\n",
      " [  4  20 120]\n",
      " [  7  56 504]]\n"
     ]
    }
   ],
   "source": [
    "print(arr.cumprod(axis=1)) #누적곱"
   ]
  },
  {
   "cell_type": "code",
   "execution_count": 180,
   "id": "62a190ae",
   "metadata": {},
   "outputs": [
    {
     "name": "stdout",
     "output_type": "stream",
     "text": [
      "[1 2 0] \n",
      "\n",
      "[1 2 0]\n"
     ]
    }
   ],
   "source": [
    "#나머지\n",
    "v1 = np.array([15,30,45])\n",
    "v2 = np.array([2,7,9])\n",
    "print(np.mod(v1,v2), '\\n')\n",
    "print(np.remainder(v1,v2))"
   ]
  },
  {
   "cell_type": "code",
   "execution_count": 181,
   "id": "96d0c022",
   "metadata": {},
   "outputs": [
    {
     "name": "stdout",
     "output_type": "stream",
     "text": [
      "[1.17647059 0.54054054 1.         0.01      ]\n"
     ]
    }
   ],
   "source": [
    "#역수 구하기\n",
    "value = np.array([0.85, 1.85, 1, 100])\n",
    "print(np.reciprocal(value))"
   ]
  },
  {
   "cell_type": "code",
   "execution_count": 184,
   "id": "4b3b3069",
   "metadata": {},
   "outputs": [
    {
     "name": "stdout",
     "output_type": "stream",
     "text": [
      "[  4 100 225] \n",
      "\n",
      "[   2  100 3375]\n"
     ]
    }
   ],
   "source": [
    "#승수\n",
    "v1 = np.array([2,10,15])\n",
    "v2 = np.array([1,2,3])\n",
    "print(np.power(v1,2),'\\n')\n",
    "print(np.power(v1,v2))"
   ]
  },
  {
   "cell_type": "code",
   "execution_count": 185,
   "id": "9c1cc52c",
   "metadata": {},
   "outputs": [
    {
     "data": {
      "text/plain": [
       "array([-0.10321885,  0.4105985 ,  0.14404357,  1.45427351,  0.76103773,\n",
       "        0.12167502,  0.44386323,  0.33367433,  1.49407907, -0.20515826])"
      ]
     },
     "execution_count": 185,
     "metadata": {},
     "output_type": "execute_result"
    }
   ],
   "source": [
    "arr = np.random.randn(10) #정규분포\n",
    "arr"
   ]
  },
  {
   "cell_type": "code",
   "execution_count": 187,
   "id": "62d9af8f",
   "metadata": {},
   "outputs": [
    {
     "data": {
      "text/plain": [
       "8"
      ]
     },
     "execution_count": 187,
     "metadata": {},
     "output_type": "execute_result"
    }
   ],
   "source": [
    "(arr > 0).sum() #조건 만족하는 '원소 갯수' not '값의 합'"
   ]
  },
  {
   "cell_type": "code",
   "execution_count": 192,
   "id": "3e75da51",
   "metadata": {},
   "outputs": [
    {
     "name": "stdout",
     "output_type": "stream",
     "text": [
      "True\n"
     ]
    },
    {
     "data": {
      "text/plain": [
       "False"
      ]
     },
     "execution_count": 192,
     "metadata": {},
     "output_type": "execute_result"
    }
   ],
   "source": [
    "#any(), all() 메서드\n",
    "bools= np.array([False, False, True, True])\n",
    "print(bools.any()) #하나라도 참이면 참\n",
    "bools.all() #전부다 참일 때, 참"
   ]
  },
  {
   "cell_type": "markdown",
   "id": "f0e82b25",
   "metadata": {},
   "source": [
    "- numpy.where 함수는 삼항식의 벡터화 버전"
   ]
  },
  {
   "cell_type": "code",
   "execution_count": 195,
   "id": "74734f60",
   "metadata": {},
   "outputs": [
    {
     "name": "stdout",
     "output_type": "stream",
     "text": [
      "[[-0.89546656  0.3869025  -0.51080514 -1.18063218]\n",
      " [-0.02818223  0.42833187  0.06651722  0.3024719 ]\n",
      " [-0.63432209 -0.36274117 -0.67246045 -0.35955316]\n",
      " [-0.81314628 -1.7262826   0.17742614 -0.40178094]] \n",
      "\n"
     ]
    },
    {
     "data": {
      "text/plain": [
       "array([[-2,  2, -2, -2],\n",
       "       [-2,  2,  2,  2],\n",
       "       [-2, -2, -2, -2],\n",
       "       [-2, -2,  2, -2]])"
      ]
     },
     "execution_count": 195,
     "metadata": {},
     "output_type": "execute_result"
    }
   ],
   "source": [
    "arr= np.random.randn(4,4)\n",
    "print(arr,'\\n')\n",
    "np.where(arr > 0, 2, -2) #조건만족시, 2로 대체, 아니면 -2"
   ]
  },
  {
   "cell_type": "code",
   "execution_count": 198,
   "id": "5a0caec8",
   "metadata": {},
   "outputs": [
    {
     "data": {
      "text/plain": [
       "array([[-0.89546656,  2.        , -0.51080514, -1.18063218],\n",
       "       [-0.02818223,  2.        ,  2.        ,  2.        ],\n",
       "       [-0.63432209, -0.36274117, -0.67246045, -0.35955316],\n",
       "       [-0.81314628, -1.7262826 ,  2.        , -0.40178094]])"
      ]
     },
     "execution_count": 198,
     "metadata": {},
     "output_type": "execute_result"
    }
   ],
   "source": [
    "# Q. arr의 모든 양수를 2로 변경하세요.\n",
    "np.where(arr>0,2,arr)"
   ]
  },
  {
   "cell_type": "markdown",
   "id": "6008079c",
   "metadata": {},
   "source": [
    "- meshgrid함수 <br>\n",
    ": 두개의 1차원 배열을 받아서 가능한 모든(x,y)짝으로 구성된 2차원 배열 반환"
   ]
  },
  {
   "cell_type": "code",
   "execution_count": 201,
   "id": "4f77fc12",
   "metadata": {},
   "outputs": [
    {
     "name": "stdout",
     "output_type": "stream",
     "text": [
      "[[1 2 3]\n",
      " [1 2 3]\n",
      " [1 2 3]]\n",
      "[[1 1 1]\n",
      " [2 2 2]\n",
      " [3 3 3]]\n"
     ]
    }
   ],
   "source": [
    "x = np.arange(1,4)\n",
    "y = np.arange(1,4)\n",
    "xs, ys = np.meshgrid(x,y) # ?\n",
    "print(xs)\n",
    "print(ys)"
   ]
  },
  {
   "cell_type": "markdown",
   "id": "5086957e",
   "metadata": {},
   "source": [
    "- arr.np.sort() : 복사본을 반환"
   ]
  },
  {
   "cell_type": "code",
   "execution_count": 208,
   "id": "0692dea1",
   "metadata": {},
   "outputs": [
    {
     "name": "stdout",
     "output_type": "stream",
     "text": [
      "[84 34 33 71 86 32 14 72 57 25] \n",
      "\n",
      "[14 25 32 33 34 57 71 72 84 86] \n",
      "\n",
      "[84 34 33 71 86 32 14 72 57 25] \n",
      "\n"
     ]
    }
   ],
   "source": [
    "arr = np.random.randint(1,100, size=10)\n",
    "print(arr, '\\n')\n",
    "print(np.sort(arr),'\\n') #따로 저장해줘야 함\n",
    "print(arr, '\\n') #기존것은 변경X"
   ]
  },
  {
   "cell_type": "code",
   "execution_count": 216,
   "id": "058b462c",
   "metadata": {},
   "outputs": [
    {
     "name": "stdout",
     "output_type": "stream",
     "text": [
      "[[ 7  1]\n",
      " [ 8 12]] \n",
      "\n",
      "[[ 8 12]\n",
      " [ 1  7]]\n"
     ]
    }
   ],
   "source": [
    "#행렬의 sort\n",
    "arr2d = np.array([[8,12],\n",
    "                  [7,1]])\n",
    "\n",
    "sort_arr2d_s0 = np.sort(arr2d, axis=0)\n",
    "print(sort_arr2d_s0,'\\n')\n",
    "\n",
    "sort_arr2d_s1 = np.sort(arr2d, axis=1)\n",
    "print(sort_arr2d_s1)"
   ]
  },
  {
   "cell_type": "markdown",
   "id": "e2b83695",
   "metadata": {},
   "source": [
    "- arr.ndarray.sort() : 원본에 반영"
   ]
  },
  {
   "cell_type": "code",
   "execution_count": 218,
   "id": "6f6a2226",
   "metadata": {},
   "outputs": [
    {
     "name": "stdout",
     "output_type": "stream",
     "text": [
      "[ 1.86755896  0.90604466 -0.86122569  1.91006495 -0.26800337  0.8024564 ] \n",
      "\n",
      "[-0.86122569 -0.26800337  0.8024564   0.90604466  1.86755896  1.91006495] \n",
      "\n"
     ]
    }
   ],
   "source": [
    "arr = np.random.randn(6)\n",
    "print(arr, '\\n')\n",
    "arr.sort()\n",
    "print(arr, '\\n')"
   ]
  },
  {
   "cell_type": "code",
   "execution_count": 224,
   "id": "a9917c6c",
   "metadata": {
    "collapsed": true
   },
   "outputs": [
    {
     "name": "stdout",
     "output_type": "stream",
     "text": [
      "[[ 0.26705087 -0.03928282 -1.1680935 ]\n",
      " [ 0.52327666 -0.17154633  0.77179055]\n",
      " [ 0.82350415  2.16323595  1.33652795]\n",
      " [-0.36918184 -0.23937918  1.0996596 ]\n",
      " [ 0.65526373  0.64013153 -1.61695604]] \n",
      "\n",
      "[[-1.1680935  -0.03928282  0.26705087]\n",
      " [-0.17154633  0.52327666  0.77179055]\n",
      " [ 0.82350415  1.33652795  2.16323595]\n",
      " [-0.36918184 -0.23937918  1.0996596 ]\n",
      " [-1.61695604  0.64013153  0.65526373]] \n",
      "\n",
      "[[-1.61695604 -0.23937918  0.26705087]\n",
      " [-1.1680935  -0.03928282  0.65526373]\n",
      " [-0.36918184  0.52327666  0.77179055]\n",
      " [-0.17154633  0.64013153  1.0996596 ]\n",
      " [ 0.82350415  1.33652795  2.16323595]] \n",
      "\n"
     ]
    }
   ],
   "source": [
    "#n차원 정렬\n",
    "arr = np.random.randn(5,3)\n",
    "print(arr, '\\n')\n",
    "arr.sort(axis=1) #열방향 #default\n",
    "print(arr, '\\n') \n",
    "arr.sort(axis=0) #행방향\n",
    "print(arr, '\\n') "
   ]
  },
  {
   "cell_type": "code",
   "execution_count": 227,
   "id": "1a4ea011",
   "metadata": {},
   "outputs": [
    {
     "name": "stdout",
     "output_type": "stream",
     "text": [
      "[3 1 9 5] \n",
      "\n",
      "[1 0 3 2]\n"
     ]
    }
   ],
   "source": [
    "#정렬된 행렬의 인덱스를 반환 : 기존 원본 행렬의 원소에 대한 인덱스를 필요로 할 때\n",
    "org_array = np.array([3,1,9,5])\n",
    "sort_indices = np.argsort(org_array)\n",
    "print(org_array, '\\n')\n",
    "print(sort_indices)"
   ]
  },
  {
   "cell_type": "code",
   "execution_count": null,
   "id": "bfdf0dda",
   "metadata": {},
   "outputs": [],
   "source": []
  },
  {
   "cell_type": "code",
   "execution_count": null,
   "id": "eb0bc7ab",
   "metadata": {},
   "outputs": [],
   "source": []
  },
  {
   "cell_type": "code",
   "execution_count": null,
   "id": "29cf1dc0",
   "metadata": {},
   "outputs": [],
   "source": []
  },
  {
   "cell_type": "code",
   "execution_count": null,
   "id": "6c83a85f",
   "metadata": {},
   "outputs": [],
   "source": []
  },
  {
   "cell_type": "code",
   "execution_count": null,
   "id": "5ea69bd1",
   "metadata": {},
   "outputs": [],
   "source": []
  },
  {
   "cell_type": "code",
   "execution_count": null,
   "id": "0c42cbd2",
   "metadata": {},
   "outputs": [],
   "source": []
  }
 ],
 "metadata": {
  "kernelspec": {
   "display_name": "Python 3 (ipykernel)",
   "language": "python",
   "name": "python3"
  },
  "language_info": {
   "codemirror_mode": {
    "name": "ipython",
    "version": 3
   },
   "file_extension": ".py",
   "mimetype": "text/x-python",
   "name": "python",
   "nbconvert_exporter": "python",
   "pygments_lexer": "ipython3",
   "version": "3.8.13"
  },
  "toc": {
   "base_numbering": 1,
   "nav_menu": {},
   "number_sections": true,
   "sideBar": true,
   "skip_h1_title": false,
   "title_cell": "Table of Contents",
   "title_sidebar": "Contents",
   "toc_cell": false,
   "toc_position": {
    "height": "calc(100% - 180px)",
    "left": "10px",
    "top": "150px",
    "width": "174.172px"
   },
   "toc_section_display": true,
   "toc_window_display": true
  }
 },
 "nbformat": 4,
 "nbformat_minor": 5
}
